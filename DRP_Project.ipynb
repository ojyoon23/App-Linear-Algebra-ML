{
  "nbformat": 4,
  "nbformat_minor": 0,
  "metadata": {
    "colab": {
      "name": "DRP Project.ipynb",
      "provenance": [],
      "collapsed_sections": []
    },
    "kernelspec": {
      "display_name": "Python 3",
      "name": "python3"
    },
    "language_info": {
      "name": "python"
    }
  },
  "cells": [
    {
      "cell_type": "code",
      "metadata": {
        "colab": {
          "base_uri": "https://localhost:8080/",
          "height": 204
        },
        "id": "tif5sh0vHtNL",
        "outputId": "464886e2-8c53-4a9f-bae1-f429006e0aee"
      },
      "source": [
        "import pandas as pd\n",
        "import numpy as np\n",
        "\n",
        "data = pd.read_csv('/content/sample_data/kc_house_data.csv')\n",
        "data.head()\n"
      ],
      "execution_count": null,
      "outputs": [
        {
          "output_type": "execute_result",
          "data": {
            "text/html": [
              "<div>\n",
              "<style scoped>\n",
              "    .dataframe tbody tr th:only-of-type {\n",
              "        vertical-align: middle;\n",
              "    }\n",
              "\n",
              "    .dataframe tbody tr th {\n",
              "        vertical-align: top;\n",
              "    }\n",
              "\n",
              "    .dataframe thead th {\n",
              "        text-align: right;\n",
              "    }\n",
              "</style>\n",
              "<table border=\"1\" class=\"dataframe\">\n",
              "  <thead>\n",
              "    <tr style=\"text-align: right;\">\n",
              "      <th></th>\n",
              "      <th>id</th>\n",
              "      <th>date</th>\n",
              "      <th>price</th>\n",
              "      <th>bedrooms</th>\n",
              "      <th>bathrooms</th>\n",
              "      <th>sqft_living</th>\n",
              "      <th>sqft_lot</th>\n",
              "      <th>floors</th>\n",
              "      <th>waterfront</th>\n",
              "      <th>view</th>\n",
              "      <th>condition</th>\n",
              "      <th>grade</th>\n",
              "      <th>sqft_above</th>\n",
              "      <th>sqft_basement</th>\n",
              "      <th>yr_built</th>\n",
              "      <th>yr_renovated</th>\n",
              "      <th>zipcode</th>\n",
              "      <th>lat</th>\n",
              "      <th>long</th>\n",
              "      <th>sqft_living15</th>\n",
              "      <th>sqft_lot15</th>\n",
              "    </tr>\n",
              "  </thead>\n",
              "  <tbody>\n",
              "    <tr>\n",
              "      <th>0</th>\n",
              "      <td>7129300520</td>\n",
              "      <td>20141013T000000</td>\n",
              "      <td>221900.0</td>\n",
              "      <td>3</td>\n",
              "      <td>1.00</td>\n",
              "      <td>1180</td>\n",
              "      <td>5650</td>\n",
              "      <td>1.0</td>\n",
              "      <td>0</td>\n",
              "      <td>0</td>\n",
              "      <td>3</td>\n",
              "      <td>7</td>\n",
              "      <td>1180</td>\n",
              "      <td>0</td>\n",
              "      <td>1955</td>\n",
              "      <td>0</td>\n",
              "      <td>98178</td>\n",
              "      <td>47.5112</td>\n",
              "      <td>-122.257</td>\n",
              "      <td>1340</td>\n",
              "      <td>5650</td>\n",
              "    </tr>\n",
              "    <tr>\n",
              "      <th>1</th>\n",
              "      <td>6414100192</td>\n",
              "      <td>20141209T000000</td>\n",
              "      <td>538000.0</td>\n",
              "      <td>3</td>\n",
              "      <td>2.25</td>\n",
              "      <td>2570</td>\n",
              "      <td>7242</td>\n",
              "      <td>2.0</td>\n",
              "      <td>0</td>\n",
              "      <td>0</td>\n",
              "      <td>3</td>\n",
              "      <td>7</td>\n",
              "      <td>2170</td>\n",
              "      <td>400</td>\n",
              "      <td>1951</td>\n",
              "      <td>1991</td>\n",
              "      <td>98125</td>\n",
              "      <td>47.7210</td>\n",
              "      <td>-122.319</td>\n",
              "      <td>1690</td>\n",
              "      <td>7639</td>\n",
              "    </tr>\n",
              "    <tr>\n",
              "      <th>2</th>\n",
              "      <td>5631500400</td>\n",
              "      <td>20150225T000000</td>\n",
              "      <td>180000.0</td>\n",
              "      <td>2</td>\n",
              "      <td>1.00</td>\n",
              "      <td>770</td>\n",
              "      <td>10000</td>\n",
              "      <td>1.0</td>\n",
              "      <td>0</td>\n",
              "      <td>0</td>\n",
              "      <td>3</td>\n",
              "      <td>6</td>\n",
              "      <td>770</td>\n",
              "      <td>0</td>\n",
              "      <td>1933</td>\n",
              "      <td>0</td>\n",
              "      <td>98028</td>\n",
              "      <td>47.7379</td>\n",
              "      <td>-122.233</td>\n",
              "      <td>2720</td>\n",
              "      <td>8062</td>\n",
              "    </tr>\n",
              "    <tr>\n",
              "      <th>3</th>\n",
              "      <td>2487200875</td>\n",
              "      <td>20141209T000000</td>\n",
              "      <td>604000.0</td>\n",
              "      <td>4</td>\n",
              "      <td>3.00</td>\n",
              "      <td>1960</td>\n",
              "      <td>5000</td>\n",
              "      <td>1.0</td>\n",
              "      <td>0</td>\n",
              "      <td>0</td>\n",
              "      <td>5</td>\n",
              "      <td>7</td>\n",
              "      <td>1050</td>\n",
              "      <td>910</td>\n",
              "      <td>1965</td>\n",
              "      <td>0</td>\n",
              "      <td>98136</td>\n",
              "      <td>47.5208</td>\n",
              "      <td>-122.393</td>\n",
              "      <td>1360</td>\n",
              "      <td>5000</td>\n",
              "    </tr>\n",
              "    <tr>\n",
              "      <th>4</th>\n",
              "      <td>1954400510</td>\n",
              "      <td>20150218T000000</td>\n",
              "      <td>510000.0</td>\n",
              "      <td>3</td>\n",
              "      <td>2.00</td>\n",
              "      <td>1680</td>\n",
              "      <td>8080</td>\n",
              "      <td>1.0</td>\n",
              "      <td>0</td>\n",
              "      <td>0</td>\n",
              "      <td>3</td>\n",
              "      <td>8</td>\n",
              "      <td>1680</td>\n",
              "      <td>0</td>\n",
              "      <td>1987</td>\n",
              "      <td>0</td>\n",
              "      <td>98074</td>\n",
              "      <td>47.6168</td>\n",
              "      <td>-122.045</td>\n",
              "      <td>1800</td>\n",
              "      <td>7503</td>\n",
              "    </tr>\n",
              "  </tbody>\n",
              "</table>\n",
              "</div>"
            ],
            "text/plain": [
              "           id             date     price  ...     long  sqft_living15  sqft_lot15\n",
              "0  7129300520  20141013T000000  221900.0  ... -122.257           1340        5650\n",
              "1  6414100192  20141209T000000  538000.0  ... -122.319           1690        7639\n",
              "2  5631500400  20150225T000000  180000.0  ... -122.233           2720        8062\n",
              "3  2487200875  20141209T000000  604000.0  ... -122.393           1360        5000\n",
              "4  1954400510  20150218T000000  510000.0  ... -122.045           1800        7503\n",
              "\n",
              "[5 rows x 21 columns]"
            ]
          },
          "metadata": {
            "tags": []
          },
          "execution_count": 169
        }
      ]
    },
    {
      "cell_type": "code",
      "metadata": {
        "colab": {
          "base_uri": "https://localhost:8080/",
          "height": 204
        },
        "id": "4zbf39QzEgbm",
        "outputId": "714da207-87a7-4afa-f174-3aa9daac9f9d"
      },
      "source": [
        "#change the date format\n",
        "def change_date_format(col):\n",
        "  data[col] = pd.to_datetime(data[col], format = '%Y-%m-%d')\n",
        "  return data\n",
        "\n",
        "change_date_format('date').head()"
      ],
      "execution_count": null,
      "outputs": [
        {
          "output_type": "execute_result",
          "data": {
            "text/html": [
              "<div>\n",
              "<style scoped>\n",
              "    .dataframe tbody tr th:only-of-type {\n",
              "        vertical-align: middle;\n",
              "    }\n",
              "\n",
              "    .dataframe tbody tr th {\n",
              "        vertical-align: top;\n",
              "    }\n",
              "\n",
              "    .dataframe thead th {\n",
              "        text-align: right;\n",
              "    }\n",
              "</style>\n",
              "<table border=\"1\" class=\"dataframe\">\n",
              "  <thead>\n",
              "    <tr style=\"text-align: right;\">\n",
              "      <th></th>\n",
              "      <th>id</th>\n",
              "      <th>date</th>\n",
              "      <th>price</th>\n",
              "      <th>bedrooms</th>\n",
              "      <th>bathrooms</th>\n",
              "      <th>sqft_living</th>\n",
              "      <th>sqft_lot</th>\n",
              "      <th>floors</th>\n",
              "      <th>waterfront</th>\n",
              "      <th>view</th>\n",
              "      <th>condition</th>\n",
              "      <th>grade</th>\n",
              "      <th>sqft_above</th>\n",
              "      <th>sqft_basement</th>\n",
              "      <th>yr_built</th>\n",
              "      <th>yr_renovated</th>\n",
              "      <th>zipcode</th>\n",
              "      <th>lat</th>\n",
              "      <th>long</th>\n",
              "      <th>sqft_living15</th>\n",
              "      <th>sqft_lot15</th>\n",
              "    </tr>\n",
              "  </thead>\n",
              "  <tbody>\n",
              "    <tr>\n",
              "      <th>0</th>\n",
              "      <td>7129300520</td>\n",
              "      <td>2014-10-13</td>\n",
              "      <td>221900.0</td>\n",
              "      <td>3</td>\n",
              "      <td>1.00</td>\n",
              "      <td>1180</td>\n",
              "      <td>5650</td>\n",
              "      <td>1.0</td>\n",
              "      <td>0</td>\n",
              "      <td>0</td>\n",
              "      <td>3</td>\n",
              "      <td>7</td>\n",
              "      <td>1180</td>\n",
              "      <td>0</td>\n",
              "      <td>1955</td>\n",
              "      <td>0</td>\n",
              "      <td>98178</td>\n",
              "      <td>47.5112</td>\n",
              "      <td>-122.257</td>\n",
              "      <td>1340</td>\n",
              "      <td>5650</td>\n",
              "    </tr>\n",
              "    <tr>\n",
              "      <th>1</th>\n",
              "      <td>6414100192</td>\n",
              "      <td>2014-12-09</td>\n",
              "      <td>538000.0</td>\n",
              "      <td>3</td>\n",
              "      <td>2.25</td>\n",
              "      <td>2570</td>\n",
              "      <td>7242</td>\n",
              "      <td>2.0</td>\n",
              "      <td>0</td>\n",
              "      <td>0</td>\n",
              "      <td>3</td>\n",
              "      <td>7</td>\n",
              "      <td>2170</td>\n",
              "      <td>400</td>\n",
              "      <td>1951</td>\n",
              "      <td>1991</td>\n",
              "      <td>98125</td>\n",
              "      <td>47.7210</td>\n",
              "      <td>-122.319</td>\n",
              "      <td>1690</td>\n",
              "      <td>7639</td>\n",
              "    </tr>\n",
              "    <tr>\n",
              "      <th>2</th>\n",
              "      <td>5631500400</td>\n",
              "      <td>2015-02-25</td>\n",
              "      <td>180000.0</td>\n",
              "      <td>2</td>\n",
              "      <td>1.00</td>\n",
              "      <td>770</td>\n",
              "      <td>10000</td>\n",
              "      <td>1.0</td>\n",
              "      <td>0</td>\n",
              "      <td>0</td>\n",
              "      <td>3</td>\n",
              "      <td>6</td>\n",
              "      <td>770</td>\n",
              "      <td>0</td>\n",
              "      <td>1933</td>\n",
              "      <td>0</td>\n",
              "      <td>98028</td>\n",
              "      <td>47.7379</td>\n",
              "      <td>-122.233</td>\n",
              "      <td>2720</td>\n",
              "      <td>8062</td>\n",
              "    </tr>\n",
              "    <tr>\n",
              "      <th>3</th>\n",
              "      <td>2487200875</td>\n",
              "      <td>2014-12-09</td>\n",
              "      <td>604000.0</td>\n",
              "      <td>4</td>\n",
              "      <td>3.00</td>\n",
              "      <td>1960</td>\n",
              "      <td>5000</td>\n",
              "      <td>1.0</td>\n",
              "      <td>0</td>\n",
              "      <td>0</td>\n",
              "      <td>5</td>\n",
              "      <td>7</td>\n",
              "      <td>1050</td>\n",
              "      <td>910</td>\n",
              "      <td>1965</td>\n",
              "      <td>0</td>\n",
              "      <td>98136</td>\n",
              "      <td>47.5208</td>\n",
              "      <td>-122.393</td>\n",
              "      <td>1360</td>\n",
              "      <td>5000</td>\n",
              "    </tr>\n",
              "    <tr>\n",
              "      <th>4</th>\n",
              "      <td>1954400510</td>\n",
              "      <td>2015-02-18</td>\n",
              "      <td>510000.0</td>\n",
              "      <td>3</td>\n",
              "      <td>2.00</td>\n",
              "      <td>1680</td>\n",
              "      <td>8080</td>\n",
              "      <td>1.0</td>\n",
              "      <td>0</td>\n",
              "      <td>0</td>\n",
              "      <td>3</td>\n",
              "      <td>8</td>\n",
              "      <td>1680</td>\n",
              "      <td>0</td>\n",
              "      <td>1987</td>\n",
              "      <td>0</td>\n",
              "      <td>98074</td>\n",
              "      <td>47.6168</td>\n",
              "      <td>-122.045</td>\n",
              "      <td>1800</td>\n",
              "      <td>7503</td>\n",
              "    </tr>\n",
              "  </tbody>\n",
              "</table>\n",
              "</div>"
            ],
            "text/plain": [
              "           id       date     price  ...     long  sqft_living15  sqft_lot15\n",
              "0  7129300520 2014-10-13  221900.0  ... -122.257           1340        5650\n",
              "1  6414100192 2014-12-09  538000.0  ... -122.319           1690        7639\n",
              "2  5631500400 2015-02-25  180000.0  ... -122.233           2720        8062\n",
              "3  2487200875 2014-12-09  604000.0  ... -122.393           1360        5000\n",
              "4  1954400510 2015-02-18  510000.0  ... -122.045           1800        7503\n",
              "\n",
              "[5 rows x 21 columns]"
            ]
          },
          "metadata": {
            "tags": []
          },
          "execution_count": 170
        }
      ]
    },
    {
      "cell_type": "code",
      "metadata": {
        "colab": {
          "base_uri": "https://localhost:8080/"
        },
        "id": "1qxQrMHsFCNt",
        "outputId": "7b6cbb3c-c2ef-4bea-8886-9e18beef81f5"
      },
      "source": [
        "data.dtypes"
      ],
      "execution_count": null,
      "outputs": [
        {
          "output_type": "execute_result",
          "data": {
            "text/plain": [
              "id                        int64\n",
              "date             datetime64[ns]\n",
              "price                   float64\n",
              "bedrooms                  int64\n",
              "bathrooms               float64\n",
              "sqft_living               int64\n",
              "sqft_lot                  int64\n",
              "floors                  float64\n",
              "waterfront                int64\n",
              "view                      int64\n",
              "condition                 int64\n",
              "grade                     int64\n",
              "sqft_above                int64\n",
              "sqft_basement             int64\n",
              "yr_built                  int64\n",
              "yr_renovated              int64\n",
              "zipcode                   int64\n",
              "lat                     float64\n",
              "long                    float64\n",
              "sqft_living15             int64\n",
              "sqft_lot15                int64\n",
              "dtype: object"
            ]
          },
          "metadata": {
            "tags": []
          },
          "execution_count": 171
        }
      ]
    },
    {
      "cell_type": "markdown",
      "metadata": {
        "id": "xANitBYbgrEt"
      },
      "source": [
        "# New Section"
      ]
    },
    {
      "cell_type": "code",
      "metadata": {
        "id": "_QPZFkOVKqo3",
        "colab": {
          "base_uri": "https://localhost:8080/"
        },
        "outputId": "b6b1849d-627f-4829-8c47-915482390c67"
      },
      "source": [
        "!pip install geopandas"
      ],
      "execution_count": null,
      "outputs": [
        {
          "output_type": "stream",
          "text": [
            "Collecting geopandas\n",
            "\u001b[?25l  Downloading https://files.pythonhosted.org/packages/d7/bf/e9cefb69d39155d122b6ddca53893b61535fa6ffdad70bf5ef708977f53f/geopandas-0.9.0-py2.py3-none-any.whl (994kB)\n",
            "\r\u001b[K     |▎                               | 10kB 16.3MB/s eta 0:00:01\r\u001b[K     |▋                               | 20kB 21.1MB/s eta 0:00:01\r\u001b[K     |█                               | 30kB 23.9MB/s eta 0:00:01\r\u001b[K     |█▎                              | 40kB 27.2MB/s eta 0:00:01\r\u001b[K     |█▋                              | 51kB 24.2MB/s eta 0:00:01\r\u001b[K     |██                              | 61kB 22.9MB/s eta 0:00:01\r\u001b[K     |██▎                             | 71kB 22.3MB/s eta 0:00:01\r\u001b[K     |██▋                             | 81kB 22.0MB/s eta 0:00:01\r\u001b[K     |███                             | 92kB 22.3MB/s eta 0:00:01\r\u001b[K     |███▎                            | 102kB 23.2MB/s eta 0:00:01\r\u001b[K     |███▋                            | 112kB 23.2MB/s eta 0:00:01\r\u001b[K     |████                            | 122kB 23.2MB/s eta 0:00:01\r\u001b[K     |████▎                           | 133kB 23.2MB/s eta 0:00:01\r\u001b[K     |████▋                           | 143kB 23.2MB/s eta 0:00:01\r\u001b[K     |█████                           | 153kB 23.2MB/s eta 0:00:01\r\u001b[K     |█████▎                          | 163kB 23.2MB/s eta 0:00:01\r\u001b[K     |█████▋                          | 174kB 23.2MB/s eta 0:00:01\r\u001b[K     |██████                          | 184kB 23.2MB/s eta 0:00:01\r\u001b[K     |██████▎                         | 194kB 23.2MB/s eta 0:00:01\r\u001b[K     |██████▋                         | 204kB 23.2MB/s eta 0:00:01\r\u001b[K     |███████                         | 215kB 23.2MB/s eta 0:00:01\r\u001b[K     |███████▎                        | 225kB 23.2MB/s eta 0:00:01\r\u001b[K     |███████▋                        | 235kB 23.2MB/s eta 0:00:01\r\u001b[K     |████████                        | 245kB 23.2MB/s eta 0:00:01\r\u001b[K     |████████▎                       | 256kB 23.2MB/s eta 0:00:01\r\u001b[K     |████████▋                       | 266kB 23.2MB/s eta 0:00:01\r\u001b[K     |█████████                       | 276kB 23.2MB/s eta 0:00:01\r\u001b[K     |█████████▎                      | 286kB 23.2MB/s eta 0:00:01\r\u001b[K     |█████████▌                      | 296kB 23.2MB/s eta 0:00:01\r\u001b[K     |█████████▉                      | 307kB 23.2MB/s eta 0:00:01\r\u001b[K     |██████████▏                     | 317kB 23.2MB/s eta 0:00:01\r\u001b[K     |██████████▌                     | 327kB 23.2MB/s eta 0:00:01\r\u001b[K     |██████████▉                     | 337kB 23.2MB/s eta 0:00:01\r\u001b[K     |███████████▏                    | 348kB 23.2MB/s eta 0:00:01\r\u001b[K     |███████████▌                    | 358kB 23.2MB/s eta 0:00:01\r\u001b[K     |███████████▉                    | 368kB 23.2MB/s eta 0:00:01\r\u001b[K     |████████████▏                   | 378kB 23.2MB/s eta 0:00:01\r\u001b[K     |████████████▌                   | 389kB 23.2MB/s eta 0:00:01\r\u001b[K     |████████████▉                   | 399kB 23.2MB/s eta 0:00:01\r\u001b[K     |█████████████▏                  | 409kB 23.2MB/s eta 0:00:01\r\u001b[K     |█████████████▌                  | 419kB 23.2MB/s eta 0:00:01\r\u001b[K     |█████████████▉                  | 430kB 23.2MB/s eta 0:00:01\r\u001b[K     |██████████████▏                 | 440kB 23.2MB/s eta 0:00:01\r\u001b[K     |██████████████▌                 | 450kB 23.2MB/s eta 0:00:01\r\u001b[K     |██████████████▉                 | 460kB 23.2MB/s eta 0:00:01\r\u001b[K     |███████████████▏                | 471kB 23.2MB/s eta 0:00:01\r\u001b[K     |███████████████▌                | 481kB 23.2MB/s eta 0:00:01\r\u001b[K     |███████████████▉                | 491kB 23.2MB/s eta 0:00:01\r\u001b[K     |████████████████▏               | 501kB 23.2MB/s eta 0:00:01\r\u001b[K     |████████████████▌               | 512kB 23.2MB/s eta 0:00:01\r\u001b[K     |████████████████▉               | 522kB 23.2MB/s eta 0:00:01\r\u001b[K     |█████████████████▏              | 532kB 23.2MB/s eta 0:00:01\r\u001b[K     |█████████████████▌              | 542kB 23.2MB/s eta 0:00:01\r\u001b[K     |█████████████████▉              | 552kB 23.2MB/s eta 0:00:01\r\u001b[K     |██████████████████▏             | 563kB 23.2MB/s eta 0:00:01\r\u001b[K     |██████████████████▌             | 573kB 23.2MB/s eta 0:00:01\r\u001b[K     |██████████████████▊             | 583kB 23.2MB/s eta 0:00:01\r\u001b[K     |███████████████████             | 593kB 23.2MB/s eta 0:00:01\r\u001b[K     |███████████████████▍            | 604kB 23.2MB/s eta 0:00:01\r\u001b[K     |███████████████████▊            | 614kB 23.2MB/s eta 0:00:01\r\u001b[K     |████████████████████            | 624kB 23.2MB/s eta 0:00:01\r\u001b[K     |████████████████████▍           | 634kB 23.2MB/s eta 0:00:01\r\u001b[K     |████████████████████▊           | 645kB 23.2MB/s eta 0:00:01\r\u001b[K     |█████████████████████           | 655kB 23.2MB/s eta 0:00:01\r\u001b[K     |█████████████████████▍          | 665kB 23.2MB/s eta 0:00:01\r\u001b[K     |█████████████████████▊          | 675kB 23.2MB/s eta 0:00:01\r\u001b[K     |██████████████████████          | 686kB 23.2MB/s eta 0:00:01\r\u001b[K     |██████████████████████▍         | 696kB 23.2MB/s eta 0:00:01\r\u001b[K     |██████████████████████▊         | 706kB 23.2MB/s eta 0:00:01\r\u001b[K     |███████████████████████         | 716kB 23.2MB/s eta 0:00:01\r\u001b[K     |███████████████████████▍        | 727kB 23.2MB/s eta 0:00:01\r\u001b[K     |███████████████████████▊        | 737kB 23.2MB/s eta 0:00:01\r\u001b[K     |████████████████████████        | 747kB 23.2MB/s eta 0:00:01\r\u001b[K     |████████████████████████▍       | 757kB 23.2MB/s eta 0:00:01\r\u001b[K     |████████████████████████▊       | 768kB 23.2MB/s eta 0:00:01\r\u001b[K     |█████████████████████████       | 778kB 23.2MB/s eta 0:00:01\r\u001b[K     |█████████████████████████▍      | 788kB 23.2MB/s eta 0:00:01\r\u001b[K     |█████████████████████████▊      | 798kB 23.2MB/s eta 0:00:01\r\u001b[K     |██████████████████████████      | 808kB 23.2MB/s eta 0:00:01\r\u001b[K     |██████████████████████████▍     | 819kB 23.2MB/s eta 0:00:01\r\u001b[K     |██████████████████████████▊     | 829kB 23.2MB/s eta 0:00:01\r\u001b[K     |███████████████████████████     | 839kB 23.2MB/s eta 0:00:01\r\u001b[K     |███████████████████████████▍    | 849kB 23.2MB/s eta 0:00:01\r\u001b[K     |███████████████████████████▊    | 860kB 23.2MB/s eta 0:00:01\r\u001b[K     |████████████████████████████    | 870kB 23.2MB/s eta 0:00:01\r\u001b[K     |████████████████████████████▎   | 880kB 23.2MB/s eta 0:00:01\r\u001b[K     |████████████████████████████▋   | 890kB 23.2MB/s eta 0:00:01\r\u001b[K     |█████████████████████████████   | 901kB 23.2MB/s eta 0:00:01\r\u001b[K     |█████████████████████████████▎  | 911kB 23.2MB/s eta 0:00:01\r\u001b[K     |█████████████████████████████▋  | 921kB 23.2MB/s eta 0:00:01\r\u001b[K     |██████████████████████████████  | 931kB 23.2MB/s eta 0:00:01\r\u001b[K     |██████████████████████████████▎ | 942kB 23.2MB/s eta 0:00:01\r\u001b[K     |██████████████████████████████▋ | 952kB 23.2MB/s eta 0:00:01\r\u001b[K     |███████████████████████████████ | 962kB 23.2MB/s eta 0:00:01\r\u001b[K     |███████████████████████████████▎| 972kB 23.2MB/s eta 0:00:01\r\u001b[K     |███████████████████████████████▋| 983kB 23.2MB/s eta 0:00:01\r\u001b[K     |████████████████████████████████| 993kB 23.2MB/s eta 0:00:01\r\u001b[K     |████████████████████████████████| 1.0MB 23.2MB/s \n",
            "\u001b[?25hRequirement already satisfied: pandas>=0.24.0 in /usr/local/lib/python3.7/dist-packages (from geopandas) (1.1.5)\n",
            "Requirement already satisfied: shapely>=1.6 in /usr/local/lib/python3.7/dist-packages (from geopandas) (1.7.1)\n",
            "Collecting pyproj>=2.2.0\n",
            "\u001b[?25l  Downloading https://files.pythonhosted.org/packages/11/1d/1c54c672c2faf08d28fe78e15d664c048f786225bef95ad87b6c435cf69e/pyproj-3.1.0-cp37-cp37m-manylinux2010_x86_64.whl (6.6MB)\n",
            "\u001b[K     |████████████████████████████████| 6.6MB 42.1MB/s \n",
            "\u001b[?25hCollecting fiona>=1.8\n",
            "\u001b[?25l  Downloading https://files.pythonhosted.org/packages/9c/fc/9807326c37a6bfb2393ae3e1cca147aa74844562c4d5daa782d6e97ad2bc/Fiona-1.8.20-cp37-cp37m-manylinux1_x86_64.whl (15.4MB)\n",
            "\u001b[K     |████████████████████████████████| 15.4MB 261kB/s \n",
            "\u001b[?25hRequirement already satisfied: python-dateutil>=2.7.3 in /usr/local/lib/python3.7/dist-packages (from pandas>=0.24.0->geopandas) (2.8.1)\n",
            "Requirement already satisfied: numpy>=1.15.4 in /usr/local/lib/python3.7/dist-packages (from pandas>=0.24.0->geopandas) (1.19.5)\n",
            "Requirement already satisfied: pytz>=2017.2 in /usr/local/lib/python3.7/dist-packages (from pandas>=0.24.0->geopandas) (2018.9)\n",
            "Requirement already satisfied: certifi in /usr/local/lib/python3.7/dist-packages (from pyproj>=2.2.0->geopandas) (2021.5.30)\n",
            "Requirement already satisfied: six>=1.7 in /usr/local/lib/python3.7/dist-packages (from fiona>=1.8->geopandas) (1.15.0)\n",
            "Collecting munch\n",
            "  Downloading https://files.pythonhosted.org/packages/cc/ab/85d8da5c9a45e072301beb37ad7f833cd344e04c817d97e0cc75681d248f/munch-2.5.0-py2.py3-none-any.whl\n",
            "Collecting click-plugins>=1.0\n",
            "  Downloading https://files.pythonhosted.org/packages/e9/da/824b92d9942f4e472702488857914bdd50f73021efea15b4cad9aca8ecef/click_plugins-1.1.1-py2.py3-none-any.whl\n",
            "Requirement already satisfied: setuptools in /usr/local/lib/python3.7/dist-packages (from fiona>=1.8->geopandas) (57.0.0)\n",
            "Requirement already satisfied: attrs>=17 in /usr/local/lib/python3.7/dist-packages (from fiona>=1.8->geopandas) (21.2.0)\n",
            "Collecting cligj>=0.5\n",
            "  Downloading https://files.pythonhosted.org/packages/73/86/43fa9f15c5b9fb6e82620428827cd3c284aa933431405d1bcf5231ae3d3e/cligj-0.7.2-py3-none-any.whl\n",
            "Requirement already satisfied: click>=4.0 in /usr/local/lib/python3.7/dist-packages (from fiona>=1.8->geopandas) (7.1.2)\n",
            "Installing collected packages: pyproj, munch, click-plugins, cligj, fiona, geopandas\n",
            "Successfully installed click-plugins-1.1.1 cligj-0.7.2 fiona-1.8.20 geopandas-0.9.0 munch-2.5.0 pyproj-3.1.0\n"
          ],
          "name": "stdout"
        }
      ]
    },
    {
      "cell_type": "code",
      "metadata": {
        "id": "AhDLBOrgKzrc"
      },
      "source": [
        "import seaborn as sns\n",
        "import matplotlib.pyplot as plt"
      ],
      "execution_count": null,
      "outputs": []
    },
    {
      "cell_type": "code",
      "metadata": {
        "colab": {
          "base_uri": "https://localhost:8080/",
          "height": 1000
        },
        "id": "Kg08D_QxK_rD",
        "outputId": "cedd7be9-c449-4ef0-9f4e-b5b775f65de1"
      },
      "source": [
        "data.drop(data[data['bedrooms'] == 0].index, inplace=True)\n",
        "data.drop(data[data['bedrooms'] == 33].index, inplace=True)\n",
        "data.drop(data[data['bathrooms']==0].index, inplace=True)\n",
        "data.shape\n",
        "\n",
        "# corrTable = data.corr()\n",
        "\n",
        "# fig, ax = plt.subplots(figsize= (20,20))\n",
        "# ax = sns.heatmap(corrTable, annot=True)\n",
        "# plt.show()\n",
        "\n",
        "fig, ax = plt.subplots(figsize = (20,20))\n",
        "sns.heatmap(data.drop('id',axis=1).corr(), annot=True, linewidths=.3, fmt='.1f', ax=ax, vmin=-1.0, vmax=1.0)\n",
        "plt.show()"
      ],
      "execution_count": null,
      "outputs": [
        {
          "output_type": "display_data",
          "data": {
            "image/png": "[encoded data removed]",
            "text/plain": [
              "<Figure size 1440x1440 with 2 Axes>"
            ]
          },
          "metadata": {
            "tags": [],
            "needs_background": "light"
          }
        }
      ]
    },
    {
      "cell_type": "code",
      "metadata": {
        "colab": {
          "base_uri": "https://localhost:8080/",
          "height": 204
        },
        "id": "B0OVSU9qFQJb",
        "outputId": "4f7257fa-f7b1-4b46-8cd1-57653f944088"
      },
      "source": [
        "data.head()"
      ],
      "execution_count": null,
      "outputs": [
        {
          "output_type": "execute_result",
          "data": {
            "text/html": [
              "<div>\n",
              "<style scoped>\n",
              "    .dataframe tbody tr th:only-of-type {\n",
              "        vertical-align: middle;\n",
              "    }\n",
              "\n",
              "    .dataframe tbody tr th {\n",
              "        vertical-align: top;\n",
              "    }\n",
              "\n",
              "    .dataframe thead th {\n",
              "        text-align: right;\n",
              "    }\n",
              "</style>\n",
              "<table border=\"1\" class=\"dataframe\">\n",
              "  <thead>\n",
              "    <tr style=\"text-align: right;\">\n",
              "      <th></th>\n",
              "      <th>id</th>\n",
              "      <th>date</th>\n",
              "      <th>price</th>\n",
              "      <th>bedrooms</th>\n",
              "      <th>bathrooms</th>\n",
              "      <th>sqft_living</th>\n",
              "      <th>sqft_lot</th>\n",
              "      <th>floors</th>\n",
              "      <th>waterfront</th>\n",
              "      <th>view</th>\n",
              "      <th>condition</th>\n",
              "      <th>grade</th>\n",
              "      <th>sqft_above</th>\n",
              "      <th>sqft_basement</th>\n",
              "      <th>yr_built</th>\n",
              "      <th>yr_renovated</th>\n",
              "      <th>zipcode</th>\n",
              "      <th>lat</th>\n",
              "      <th>long</th>\n",
              "      <th>sqft_living15</th>\n",
              "      <th>sqft_lot15</th>\n",
              "    </tr>\n",
              "  </thead>\n",
              "  <tbody>\n",
              "    <tr>\n",
              "      <th>0</th>\n",
              "      <td>7129300520</td>\n",
              "      <td>2014-10-13</td>\n",
              "      <td>221900.0</td>\n",
              "      <td>3</td>\n",
              "      <td>1.00</td>\n",
              "      <td>1180</td>\n",
              "      <td>5650</td>\n",
              "      <td>1.0</td>\n",
              "      <td>0</td>\n",
              "      <td>0</td>\n",
              "      <td>3</td>\n",
              "      <td>7</td>\n",
              "      <td>1180</td>\n",
              "      <td>0</td>\n",
              "      <td>1955</td>\n",
              "      <td>0</td>\n",
              "      <td>98178</td>\n",
              "      <td>47.5112</td>\n",
              "      <td>-122.257</td>\n",
              "      <td>1340</td>\n",
              "      <td>5650</td>\n",
              "    </tr>\n",
              "    <tr>\n",
              "      <th>1</th>\n",
              "      <td>6414100192</td>\n",
              "      <td>2014-12-09</td>\n",
              "      <td>538000.0</td>\n",
              "      <td>3</td>\n",
              "      <td>2.25</td>\n",
              "      <td>2570</td>\n",
              "      <td>7242</td>\n",
              "      <td>2.0</td>\n",
              "      <td>0</td>\n",
              "      <td>0</td>\n",
              "      <td>3</td>\n",
              "      <td>7</td>\n",
              "      <td>2170</td>\n",
              "      <td>400</td>\n",
              "      <td>1951</td>\n",
              "      <td>1991</td>\n",
              "      <td>98125</td>\n",
              "      <td>47.7210</td>\n",
              "      <td>-122.319</td>\n",
              "      <td>1690</td>\n",
              "      <td>7639</td>\n",
              "    </tr>\n",
              "    <tr>\n",
              "      <th>2</th>\n",
              "      <td>5631500400</td>\n",
              "      <td>2015-02-25</td>\n",
              "      <td>180000.0</td>\n",
              "      <td>2</td>\n",
              "      <td>1.00</td>\n",
              "      <td>770</td>\n",
              "      <td>10000</td>\n",
              "      <td>1.0</td>\n",
              "      <td>0</td>\n",
              "      <td>0</td>\n",
              "      <td>3</td>\n",
              "      <td>6</td>\n",
              "      <td>770</td>\n",
              "      <td>0</td>\n",
              "      <td>1933</td>\n",
              "      <td>0</td>\n",
              "      <td>98028</td>\n",
              "      <td>47.7379</td>\n",
              "      <td>-122.233</td>\n",
              "      <td>2720</td>\n",
              "      <td>8062</td>\n",
              "    </tr>\n",
              "    <tr>\n",
              "      <th>3</th>\n",
              "      <td>2487200875</td>\n",
              "      <td>2014-12-09</td>\n",
              "      <td>604000.0</td>\n",
              "      <td>4</td>\n",
              "      <td>3.00</td>\n",
              "      <td>1960</td>\n",
              "      <td>5000</td>\n",
              "      <td>1.0</td>\n",
              "      <td>0</td>\n",
              "      <td>0</td>\n",
              "      <td>5</td>\n",
              "      <td>7</td>\n",
              "      <td>1050</td>\n",
              "      <td>910</td>\n",
              "      <td>1965</td>\n",
              "      <td>0</td>\n",
              "      <td>98136</td>\n",
              "      <td>47.5208</td>\n",
              "      <td>-122.393</td>\n",
              "      <td>1360</td>\n",
              "      <td>5000</td>\n",
              "    </tr>\n",
              "    <tr>\n",
              "      <th>4</th>\n",
              "      <td>1954400510</td>\n",
              "      <td>2015-02-18</td>\n",
              "      <td>510000.0</td>\n",
              "      <td>3</td>\n",
              "      <td>2.00</td>\n",
              "      <td>1680</td>\n",
              "      <td>8080</td>\n",
              "      <td>1.0</td>\n",
              "      <td>0</td>\n",
              "      <td>0</td>\n",
              "      <td>3</td>\n",
              "      <td>8</td>\n",
              "      <td>1680</td>\n",
              "      <td>0</td>\n",
              "      <td>1987</td>\n",
              "      <td>0</td>\n",
              "      <td>98074</td>\n",
              "      <td>47.6168</td>\n",
              "      <td>-122.045</td>\n",
              "      <td>1800</td>\n",
              "      <td>7503</td>\n",
              "    </tr>\n",
              "  </tbody>\n",
              "</table>\n",
              "</div>"
            ],
            "text/plain": [
              "           id       date     price  ...     long  sqft_living15  sqft_lot15\n",
              "0  7129300520 2014-10-13  221900.0  ... -122.257           1340        5650\n",
              "1  6414100192 2014-12-09  538000.0  ... -122.319           1690        7639\n",
              "2  5631500400 2015-02-25  180000.0  ... -122.233           2720        8062\n",
              "3  2487200875 2014-12-09  604000.0  ... -122.393           1360        5000\n",
              "4  1954400510 2015-02-18  510000.0  ... -122.045           1800        7503\n",
              "\n",
              "[5 rows x 21 columns]"
            ]
          },
          "metadata": {
            "tags": []
          },
          "execution_count": 174
        }
      ]
    },
    {
      "cell_type": "code",
      "metadata": {
        "id": "b2oYxDatSJgA",
        "colab": {
          "base_uri": "https://localhost:8080/",
          "height": 672
        },
        "outputId": "ec6a9418-e299-4454-a492-7e74f0a21922"
      },
      "source": [
        "#check multicollinearity\n",
        "\n",
        "from statsmodels.stats.outliers_influence import variance_inflation_factor\n",
        "\n",
        "def calc_vif(X):\n",
        "\n",
        "    # Calculating VIF\n",
        "    vif = pd.DataFrame()\n",
        "    vif[\"variables\"] = X.columns\n",
        "    vif[\"VIF\"] = [variance_inflation_factor(X.values, i) for i in range(X.shape[1])]\n",
        "\n",
        "    return(vif)\n",
        "\n",
        "\n",
        "\n",
        "calc_vif(data.drop(columns=['date','price']))\n",
        "#sqft living, above, basement seem to be perfect collinearity."
      ],
      "execution_count": null,
      "outputs": [
        {
          "output_type": "stream",
          "text": [
            "/usr/local/lib/python3.7/dist-packages/statsmodels/stats/outliers_influence.py:185: RuntimeWarning: divide by zero encountered in double_scalars\n",
            "  vif = 1. / (1. - r_squared_i)\n"
          ],
          "name": "stderr"
        },
        {
          "output_type": "execute_result",
          "data": {
            "text/html": [
              "<div>\n",
              "<style scoped>\n",
              "    .dataframe tbody tr th:only-of-type {\n",
              "        vertical-align: middle;\n",
              "    }\n",
              "\n",
              "    .dataframe tbody tr th {\n",
              "        vertical-align: top;\n",
              "    }\n",
              "\n",
              "    .dataframe thead th {\n",
              "        text-align: right;\n",
              "    }\n",
              "</style>\n",
              "<table border=\"1\" class=\"dataframe\">\n",
              "  <thead>\n",
              "    <tr style=\"text-align: right;\">\n",
              "      <th></th>\n",
              "      <th>variables</th>\n",
              "      <th>VIF</th>\n",
              "    </tr>\n",
              "  </thead>\n",
              "  <tbody>\n",
              "    <tr>\n",
              "      <th>0</th>\n",
              "      <td>id</td>\n",
              "      <td>3.631240</td>\n",
              "    </tr>\n",
              "    <tr>\n",
              "      <th>1</th>\n",
              "      <td>bedrooms</td>\n",
              "      <td>1.703376</td>\n",
              "    </tr>\n",
              "    <tr>\n",
              "      <th>2</th>\n",
              "      <td>bathrooms</td>\n",
              "      <td>3.376685</td>\n",
              "    </tr>\n",
              "    <tr>\n",
              "      <th>3</th>\n",
              "      <td>sqft_living</td>\n",
              "      <td>inf</td>\n",
              "    </tr>\n",
              "    <tr>\n",
              "      <th>4</th>\n",
              "      <td>sqft_lot</td>\n",
              "      <td>2.101922</td>\n",
              "    </tr>\n",
              "    <tr>\n",
              "      <th>5</th>\n",
              "      <td>floors</td>\n",
              "      <td>1.953888</td>\n",
              "    </tr>\n",
              "    <tr>\n",
              "      <th>6</th>\n",
              "      <td>waterfront</td>\n",
              "      <td>1.204198</td>\n",
              "    </tr>\n",
              "    <tr>\n",
              "      <th>7</th>\n",
              "      <td>view</td>\n",
              "      <td>1.421333</td>\n",
              "    </tr>\n",
              "    <tr>\n",
              "      <th>8</th>\n",
              "      <td>condition</td>\n",
              "      <td>1.219919</td>\n",
              "    </tr>\n",
              "    <tr>\n",
              "      <th>9</th>\n",
              "      <td>grade</td>\n",
              "      <td>3.410750</td>\n",
              "    </tr>\n",
              "    <tr>\n",
              "      <th>10</th>\n",
              "      <td>sqft_above</td>\n",
              "      <td>inf</td>\n",
              "    </tr>\n",
              "    <tr>\n",
              "      <th>11</th>\n",
              "      <td>sqft_basement</td>\n",
              "      <td>inf</td>\n",
              "    </tr>\n",
              "    <tr>\n",
              "      <th>12</th>\n",
              "      <td>yr_built</td>\n",
              "      <td>2.131677</td>\n",
              "    </tr>\n",
              "    <tr>\n",
              "      <th>13</th>\n",
              "      <td>yr_renovated</td>\n",
              "      <td>1.144894</td>\n",
              "    </tr>\n",
              "    <tr>\n",
              "      <th>14</th>\n",
              "      <td>zipcode</td>\n",
              "      <td>0.487999</td>\n",
              "    </tr>\n",
              "    <tr>\n",
              "      <th>15</th>\n",
              "      <td>lat</td>\n",
              "      <td>1.180482</td>\n",
              "    </tr>\n",
              "    <tr>\n",
              "      <th>16</th>\n",
              "      <td>long</td>\n",
              "      <td>1.812086</td>\n",
              "    </tr>\n",
              "    <tr>\n",
              "      <th>17</th>\n",
              "      <td>sqft_living15</td>\n",
              "      <td>2.884930</td>\n",
              "    </tr>\n",
              "    <tr>\n",
              "      <th>18</th>\n",
              "      <td>sqft_lot15</td>\n",
              "      <td>2.140941</td>\n",
              "    </tr>\n",
              "  </tbody>\n",
              "</table>\n",
              "</div>"
            ],
            "text/plain": [
              "        variables       VIF\n",
              "0              id  3.631240\n",
              "1        bedrooms  1.703376\n",
              "2       bathrooms  3.376685\n",
              "3     sqft_living       inf\n",
              "4        sqft_lot  2.101922\n",
              "5          floors  1.953888\n",
              "6      waterfront  1.204198\n",
              "7            view  1.421333\n",
              "8       condition  1.219919\n",
              "9           grade  3.410750\n",
              "10     sqft_above       inf\n",
              "11  sqft_basement       inf\n",
              "12       yr_built  2.131677\n",
              "13   yr_renovated  1.144894\n",
              "14        zipcode  0.487999\n",
              "15            lat  1.180482\n",
              "16           long  1.812086\n",
              "17  sqft_living15  2.884930\n",
              "18     sqft_lot15  2.140941"
            ]
          },
          "metadata": {
            "tags": []
          },
          "execution_count": 175
        }
      ]
    },
    {
      "cell_type": "code",
      "metadata": {
        "colab": {
          "base_uri": "https://localhost:8080/",
          "height": 607
        },
        "id": "xvN3dn43GL_k",
        "outputId": "e57e2378-6f80-4494-f4c5-7ecba7763ba9"
      },
      "source": [
        "calc_vif(data.drop(columns=['date','sqft_above','price'])) #remove maybe sqft_above or living or basement check later"
      ],
      "execution_count": null,
      "outputs": [
        {
          "output_type": "execute_result",
          "data": {
            "text/html": [
              "<div>\n",
              "<style scoped>\n",
              "    .dataframe tbody tr th:only-of-type {\n",
              "        vertical-align: middle;\n",
              "    }\n",
              "\n",
              "    .dataframe tbody tr th {\n",
              "        vertical-align: top;\n",
              "    }\n",
              "\n",
              "    .dataframe thead th {\n",
              "        text-align: right;\n",
              "    }\n",
              "</style>\n",
              "<table border=\"1\" class=\"dataframe\">\n",
              "  <thead>\n",
              "    <tr style=\"text-align: right;\">\n",
              "      <th></th>\n",
              "      <th>variables</th>\n",
              "      <th>VIF</th>\n",
              "    </tr>\n",
              "  </thead>\n",
              "  <tbody>\n",
              "    <tr>\n",
              "      <th>0</th>\n",
              "      <td>id</td>\n",
              "      <td>3.631240</td>\n",
              "    </tr>\n",
              "    <tr>\n",
              "      <th>1</th>\n",
              "      <td>bedrooms</td>\n",
              "      <td>1.703376</td>\n",
              "    </tr>\n",
              "    <tr>\n",
              "      <th>2</th>\n",
              "      <td>bathrooms</td>\n",
              "      <td>3.376685</td>\n",
              "    </tr>\n",
              "    <tr>\n",
              "      <th>3</th>\n",
              "      <td>sqft_living</td>\n",
              "      <td>6.113198</td>\n",
              "    </tr>\n",
              "    <tr>\n",
              "      <th>4</th>\n",
              "      <td>sqft_lot</td>\n",
              "      <td>2.101922</td>\n",
              "    </tr>\n",
              "    <tr>\n",
              "      <th>5</th>\n",
              "      <td>floors</td>\n",
              "      <td>1.953888</td>\n",
              "    </tr>\n",
              "    <tr>\n",
              "      <th>6</th>\n",
              "      <td>waterfront</td>\n",
              "      <td>1.204198</td>\n",
              "    </tr>\n",
              "    <tr>\n",
              "      <th>7</th>\n",
              "      <td>view</td>\n",
              "      <td>1.421333</td>\n",
              "    </tr>\n",
              "    <tr>\n",
              "      <th>8</th>\n",
              "      <td>condition</td>\n",
              "      <td>1.219919</td>\n",
              "    </tr>\n",
              "    <tr>\n",
              "      <th>9</th>\n",
              "      <td>grade</td>\n",
              "      <td>3.410750</td>\n",
              "    </tr>\n",
              "    <tr>\n",
              "      <th>10</th>\n",
              "      <td>sqft_basement</td>\n",
              "      <td>1.948394</td>\n",
              "    </tr>\n",
              "    <tr>\n",
              "      <th>11</th>\n",
              "      <td>yr_built</td>\n",
              "      <td>2.131677</td>\n",
              "    </tr>\n",
              "    <tr>\n",
              "      <th>12</th>\n",
              "      <td>yr_renovated</td>\n",
              "      <td>1.144894</td>\n",
              "    </tr>\n",
              "    <tr>\n",
              "      <th>13</th>\n",
              "      <td>zipcode</td>\n",
              "      <td>0.487999</td>\n",
              "    </tr>\n",
              "    <tr>\n",
              "      <th>14</th>\n",
              "      <td>lat</td>\n",
              "      <td>1.180482</td>\n",
              "    </tr>\n",
              "    <tr>\n",
              "      <th>15</th>\n",
              "      <td>long</td>\n",
              "      <td>1.812086</td>\n",
              "    </tr>\n",
              "    <tr>\n",
              "      <th>16</th>\n",
              "      <td>sqft_living15</td>\n",
              "      <td>2.884930</td>\n",
              "    </tr>\n",
              "    <tr>\n",
              "      <th>17</th>\n",
              "      <td>sqft_lot15</td>\n",
              "      <td>2.140941</td>\n",
              "    </tr>\n",
              "  </tbody>\n",
              "</table>\n",
              "</div>"
            ],
            "text/plain": [
              "        variables       VIF\n",
              "0              id  3.631240\n",
              "1        bedrooms  1.703376\n",
              "2       bathrooms  3.376685\n",
              "3     sqft_living  6.113198\n",
              "4        sqft_lot  2.101922\n",
              "5          floors  1.953888\n",
              "6      waterfront  1.204198\n",
              "7            view  1.421333\n",
              "8       condition  1.219919\n",
              "9           grade  3.410750\n",
              "10  sqft_basement  1.948394\n",
              "11       yr_built  2.131677\n",
              "12   yr_renovated  1.144894\n",
              "13        zipcode  0.487999\n",
              "14            lat  1.180482\n",
              "15           long  1.812086\n",
              "16  sqft_living15  2.884930\n",
              "17     sqft_lot15  2.140941"
            ]
          },
          "metadata": {
            "tags": []
          },
          "execution_count": 176
        }
      ]
    },
    {
      "cell_type": "code",
      "metadata": {
        "colab": {
          "base_uri": "https://localhost:8080/",
          "height": 282
        },
        "id": "1Fs9onh5N9mX",
        "outputId": "8f476e63-88d0-4648-b2c9-f5198b0b7bb8"
      },
      "source": [
        "data.boxplot(['bathrooms'])\n",
        "#might remove outliers"
      ],
      "execution_count": null,
      "outputs": [
        {
          "output_type": "execute_result",
          "data": {
            "text/plain": [
              "<matplotlib.axes._subplots.AxesSubplot at 0x7fdd3035f710>"
            ]
          },
          "metadata": {
            "tags": []
          },
          "execution_count": 177
        },
        {
          "output_type": "display_data",
          "data": {
            "image/png": "[encoded data removed]",
            "text/plain": [
              "<Figure size 432x288 with 1 Axes>"
            ]
          },
          "metadata": {
            "tags": [],
            "needs_background": "light"
          }
        }
      ]
    },
    {
      "cell_type": "code",
      "metadata": {
        "colab": {
          "base_uri": "https://localhost:8080/",
          "height": 367
        },
        "id": "OcWPh5qDR1yL",
        "outputId": "a91314d7-5339-4ed6-fe2c-d040edea81b6"
      },
      "source": [
        "# map based on waterfront\n",
        "import geopandas as gpd\n",
        "from shapely.geometry import Point\n",
        "\n",
        "# commented out cuz uploading the data is too much work, and \n",
        "'''\n",
        "crs = {'init': 'epsg:4326'}\n",
        "\n",
        "street_map = gpd.read_file('/content/sample_data/Street_Address___st_address_line.shp')\n",
        "fig, ax = plt.subplots(figsize=(150,150))\n",
        "\n",
        "geometry = [Point(xy) for xy in zip( data['long'], data['lat'] )]\n",
        "geo_data = gpd.GeoDataFrame(data, crs = crs, geometry = geometry)\n",
        "street_map.plot(ax = ax, alpha = 0.4, color = 'grey')\n",
        "geo_data.plot(ax = ax, markersize = 5, column='waterfront',cmap='viridis', legend = True)\n",
        "#ax.legend(bbox_to_anchor=(1.0, .5), prop={'size': 12})\n",
        "plt.savefig('pricemaplegend.png')\n",
        "'''"
      ],
      "execution_count": null,
      "outputs": [
        {
          "output_type": "error",
          "ename": "ModuleNotFoundError",
          "evalue": "ignored",
          "traceback": [
            "\u001b[0;31m---------------------------------------------------------------------------\u001b[0m",
            "\u001b[0;31mModuleNotFoundError\u001b[0m                       Traceback (most recent call last)",
            "\u001b[0;32m<ipython-input-89-fdf37f86c118>\u001b[0m in \u001b[0;36m<module>\u001b[0;34m()\u001b[0m\n\u001b[1;32m      1\u001b[0m \u001b[0;31m# map based on waterfront\u001b[0m\u001b[0;34m\u001b[0m\u001b[0;34m\u001b[0m\u001b[0;34m\u001b[0m\u001b[0m\n\u001b[0;32m----> 2\u001b[0;31m \u001b[0;32mimport\u001b[0m \u001b[0mgeopandas\u001b[0m \u001b[0;32mas\u001b[0m \u001b[0mgpd\u001b[0m\u001b[0;34m\u001b[0m\u001b[0;34m\u001b[0m\u001b[0m\n\u001b[0m\u001b[1;32m      3\u001b[0m \u001b[0;32mfrom\u001b[0m \u001b[0mshapely\u001b[0m\u001b[0;34m.\u001b[0m\u001b[0mgeometry\u001b[0m \u001b[0;32mimport\u001b[0m \u001b[0mPoint\u001b[0m\u001b[0;34m\u001b[0m\u001b[0;34m\u001b[0m\u001b[0m\n\u001b[1;32m      4\u001b[0m \u001b[0;34m\u001b[0m\u001b[0m\n\u001b[1;32m      5\u001b[0m \u001b[0;31m# commented out cuz uploading the data is too much work, and\u001b[0m\u001b[0;34m\u001b[0m\u001b[0;34m\u001b[0m\u001b[0;34m\u001b[0m\u001b[0m\n",
            "\u001b[0;31mModuleNotFoundError\u001b[0m: No module named 'geopandas'",
            "",
            "\u001b[0;31m---------------------------------------------------------------------------\u001b[0;32m\nNOTE: If your import is failing due to a missing package, you can\nmanually install dependencies using either !pip or !apt.\n\nTo view examples of installing some common dependencies, click the\n\"Open Examples\" button below.\n\u001b[0;31m---------------------------------------------------------------------------\u001b[0m\n"
          ]
        }
      ]
    },
    {
      "cell_type": "code",
      "metadata": {
        "colab": {
          "base_uri": "https://localhost:8080/"
        },
        "id": "Ek2xJag0L22t",
        "outputId": "4f4ef517-215d-4236-ff2a-2d9f040d3cd9"
      },
      "source": [
        "from sklearn.linear_model import LinearRegression\n",
        "from sklearn.model_selection import train_test_split\n",
        "\n",
        "X = data.loc[:,~data.columns.isin(['price','date','sqft_above','id'])]\n",
        "y = data['price']\n",
        "X_train, X_test, y_train, y_test = train_test_split(X, y, test_size=0.2, random_state=0)\n",
        "\n",
        "#Return the coefficient of determination R^2 of the prediction.\n",
        "lr = LinearRegression().fit(X_train, y_train)\n",
        "price_pred = lr.predict(X_test)\n",
        "print(lr.score(X_test,y_test))"
      ],
      "execution_count": null,
      "outputs": [
        {
          "output_type": "stream",
          "text": [
            "0.7123976202763923\n"
          ],
          "name": "stdout"
        }
      ]
    },
    {
      "cell_type": "code",
      "metadata": {
        "colab": {
          "base_uri": "https://localhost:8080/"
        },
        "id": "byFdUXK4MilT",
        "outputId": "615012f9-7521-4dd9-dc89-91317a077d69"
      },
      "source": [
        "log_y = np.log(y)\n",
        "lX_train, lX_test, log_y_train, log_y_test = train_test_split(X, log_y, test_size=0.2, random_state=0)\n",
        "\n",
        "lr = LinearRegression().fit(lX_train, log_y_train)\n",
        "price_pred = lr.predict(lX_test)\n",
        "print(lr.score(lX_test,log_y_test))"
      ],
      "execution_count": null,
      "outputs": [
        {
          "output_type": "stream",
          "text": [
            "0.7750800458955649\n"
          ],
          "name": "stdout"
        }
      ]
    },
    {
      "cell_type": "code",
      "metadata": {
        "id": "lNKaLBbvG5HY",
        "colab": {
          "base_uri": "https://localhost:8080/",
          "height": 661
        },
        "outputId": "c695b289-dd7b-4450-b749-fef90d23032a"
      },
      "source": [
        "print(lr.coef_)\n",
        "#plt.scatter()\n",
        "pd.DataFrame({\"Feature\":lX_train.columns.tolist(),\"Coefficients\":lr.coef_})"
      ],
      "execution_count": null,
      "outputs": [
        {
          "output_type": "stream",
          "text": [
            "[-1.36590427e-02  6.71033113e-02  1.35780849e-04  4.25932287e-07\n",
            "  7.47408267e-02  3.76290632e-01  6.13212178e-02  6.36771533e-02\n",
            "  1.60038956e-01  1.52178582e-05 -3.34441173e-03  3.59877819e-05\n",
            " -6.54423734e-04  1.40007966e+00 -1.65286491e-01  1.01742155e-04\n",
            " -3.02958360e-07]\n"
          ],
          "name": "stdout"
        },
        {
          "output_type": "execute_result",
          "data": {
            "text/html": [
              "<div>\n",
              "<style scoped>\n",
              "    .dataframe tbody tr th:only-of-type {\n",
              "        vertical-align: middle;\n",
              "    }\n",
              "\n",
              "    .dataframe tbody tr th {\n",
              "        vertical-align: top;\n",
              "    }\n",
              "\n",
              "    .dataframe thead th {\n",
              "        text-align: right;\n",
              "    }\n",
              "</style>\n",
              "<table border=\"1\" class=\"dataframe\">\n",
              "  <thead>\n",
              "    <tr style=\"text-align: right;\">\n",
              "      <th></th>\n",
              "      <th>Feature</th>\n",
              "      <th>Coefficients</th>\n",
              "    </tr>\n",
              "  </thead>\n",
              "  <tbody>\n",
              "    <tr>\n",
              "      <th>0</th>\n",
              "      <td>bedrooms</td>\n",
              "      <td>-1.365904e-02</td>\n",
              "    </tr>\n",
              "    <tr>\n",
              "      <th>1</th>\n",
              "      <td>bathrooms</td>\n",
              "      <td>6.710331e-02</td>\n",
              "    </tr>\n",
              "    <tr>\n",
              "      <th>2</th>\n",
              "      <td>sqft_living</td>\n",
              "      <td>1.357808e-04</td>\n",
              "    </tr>\n",
              "    <tr>\n",
              "      <th>3</th>\n",
              "      <td>sqft_lot</td>\n",
              "      <td>4.259323e-07</td>\n",
              "    </tr>\n",
              "    <tr>\n",
              "      <th>4</th>\n",
              "      <td>floors</td>\n",
              "      <td>7.474083e-02</td>\n",
              "    </tr>\n",
              "    <tr>\n",
              "      <th>5</th>\n",
              "      <td>waterfront</td>\n",
              "      <td>3.762906e-01</td>\n",
              "    </tr>\n",
              "    <tr>\n",
              "      <th>6</th>\n",
              "      <td>view</td>\n",
              "      <td>6.132122e-02</td>\n",
              "    </tr>\n",
              "    <tr>\n",
              "      <th>7</th>\n",
              "      <td>condition</td>\n",
              "      <td>6.367715e-02</td>\n",
              "    </tr>\n",
              "    <tr>\n",
              "      <th>8</th>\n",
              "      <td>grade</td>\n",
              "      <td>1.600390e-01</td>\n",
              "    </tr>\n",
              "    <tr>\n",
              "      <th>9</th>\n",
              "      <td>sqft_basement</td>\n",
              "      <td>1.521786e-05</td>\n",
              "    </tr>\n",
              "    <tr>\n",
              "      <th>10</th>\n",
              "      <td>yr_built</td>\n",
              "      <td>-3.344412e-03</td>\n",
              "    </tr>\n",
              "    <tr>\n",
              "      <th>11</th>\n",
              "      <td>yr_renovated</td>\n",
              "      <td>3.598778e-05</td>\n",
              "    </tr>\n",
              "    <tr>\n",
              "      <th>12</th>\n",
              "      <td>zipcode</td>\n",
              "      <td>-6.544237e-04</td>\n",
              "    </tr>\n",
              "    <tr>\n",
              "      <th>13</th>\n",
              "      <td>lat</td>\n",
              "      <td>1.400080e+00</td>\n",
              "    </tr>\n",
              "    <tr>\n",
              "      <th>14</th>\n",
              "      <td>long</td>\n",
              "      <td>-1.652865e-01</td>\n",
              "    </tr>\n",
              "    <tr>\n",
              "      <th>15</th>\n",
              "      <td>sqft_living15</td>\n",
              "      <td>1.017422e-04</td>\n",
              "    </tr>\n",
              "    <tr>\n",
              "      <th>16</th>\n",
              "      <td>sqft_lot15</td>\n",
              "      <td>-3.029584e-07</td>\n",
              "    </tr>\n",
              "  </tbody>\n",
              "</table>\n",
              "</div>"
            ],
            "text/plain": [
              "          Feature  Coefficients\n",
              "0        bedrooms -1.365904e-02\n",
              "1       bathrooms  6.710331e-02\n",
              "2     sqft_living  1.357808e-04\n",
              "3        sqft_lot  4.259323e-07\n",
              "4          floors  7.474083e-02\n",
              "5      waterfront  3.762906e-01\n",
              "6            view  6.132122e-02\n",
              "7       condition  6.367715e-02\n",
              "8           grade  1.600390e-01\n",
              "9   sqft_basement  1.521786e-05\n",
              "10       yr_built -3.344412e-03\n",
              "11   yr_renovated  3.598778e-05\n",
              "12        zipcode -6.544237e-04\n",
              "13            lat  1.400080e+00\n",
              "14           long -1.652865e-01\n",
              "15  sqft_living15  1.017422e-04\n",
              "16     sqft_lot15 -3.029584e-07"
            ]
          },
          "metadata": {
            "tags": []
          },
          "execution_count": 181
        }
      ]
    },
    {
      "cell_type": "code",
      "metadata": {
        "colab": {
          "base_uri": "https://localhost:8080/"
        },
        "id": "cgjHGlzVE5ER",
        "outputId": "e442cb42-c328-48e4-da73-23b7f4a9ceee"
      },
      "source": [
        "from sklearn.linear_model import Ridge\n",
        "\n",
        "for i in range(0,20):\n",
        "  clf = Ridge(alpha = i*(0.2/20))\n",
        "  rdg = clf.fit(X_train,y_train)\n",
        "  print(i*(0.2/20), \":\", rdg.score(X_test,y_test))"
      ],
      "execution_count": null,
      "outputs": [
        {
          "output_type": "stream",
          "text": [
            "0.0 : 0.7123976202763532\n",
            "0.01 : 0.7123974412121572\n",
            "0.02 : 0.7123972618441057\n",
            "0.03 : 0.7123970821723256\n",
            "0.04 : 0.7123969021969498\n",
            "0.05 : 0.7123967219181075\n",
            "0.06 : 0.7123965413359306\n",
            "0.07 : 0.7123963604505471\n",
            "0.08 : 0.7123961792620884\n",
            "0.09 : 0.7123959977706846\n",
            "0.1 : 0.7123958159764658\n",
            "0.11 : 0.712395633879561\n",
            "0.12 : 0.712395451480101\n",
            "0.13 : 0.7123952687782155\n",
            "0.14 : 0.7123950857740331\n",
            "0.15 : 0.7123949024676844\n",
            "0.16 : 0.7123947188593003\n",
            "0.17 : 0.7123945349490084\n",
            "0.18 : 0.71239435073694\n",
            "0.19 : 0.7123941662232235\n"
          ],
          "name": "stdout"
        }
      ]
    },
    {
      "cell_type": "code",
      "metadata": {
        "colab": {
          "base_uri": "https://localhost:8080/"
        },
        "id": "suE4Pf_FFjzV",
        "outputId": "16f033da-f058-47cb-b9c0-521ac81acbf6"
      },
      "source": [
        "for i in range(0,20):\n",
        "  clf = Ridge(alpha = i*(0.2))\n",
        "  rdg = clf.fit(lX_train,log_y_train)\n",
        "  predicted_log_price=clf.fit(lX_train,log_y_train).predict(lX_test)\n",
        "  print(i*(0.2), \":\", rdg.score(lX_test,log_y_test))\n",
        "  \n",
        "from sklearn.metrics import accuracy_score  \n"
      ],
      "execution_count": null,
      "outputs": [
        {
          "output_type": "stream",
          "text": [
            "0.0 : 0.7750800458955529\n",
            "0.2 : 0.7750824367902672\n",
            "0.4 : 0.7750846875713925\n",
            "0.6000000000000001 : 0.7750867989610907\n",
            "0.8 : 0.7750887716771373\n",
            "1.0 : 0.7750906064329519\n",
            "1.2000000000000002 : 0.7750923039376418\n",
            "1.4000000000000001 : 0.7750938648960265\n",
            "1.6 : 0.7750952900086757\n",
            "1.8 : 0.7750965799719471\n",
            "2.0 : 0.7750977354780186\n",
            "2.2 : 0.7750987572149167\n",
            "2.4000000000000004 : 0.7750996458665567\n",
            "2.6 : 0.7751004021127685\n",
            "2.8000000000000003 : 0.7751010266293352\n",
            "3.0 : 0.7751015200880231\n",
            "3.2 : 0.7751018831566108\n",
            "3.4000000000000004 : 0.7751021164989218\n",
            "3.6 : 0.7751022207748579\n",
            "3.8000000000000003 : 0.7751021966404257\n"
          ],
          "name": "stdout"
        }
      ]
    },
    {
      "cell_type": "code",
      "metadata": {
        "colab": {
          "base_uri": "https://localhost:8080/",
          "height": 661
        },
        "id": "uPhdm75xL6K3",
        "outputId": "119e50dc-83e0-4532-c0fb-b6dca6298c7e"
      },
      "source": [
        "print(rdg.coef_)\n",
        "#plt.scatter()\n",
        "pd.DataFrame({\"Feature\":lX_train.columns.tolist(),\"Coefficients\":rdg.coef_})"
      ],
      "execution_count": null,
      "outputs": [
        {
          "output_type": "stream",
          "text": [
            "[-1.38747786e-02  6.71603095e-02  1.35486121e-04  4.21515416e-07\n",
            "  7.52289529e-02  3.63926346e-01  6.15615154e-02  6.34490665e-02\n",
            "  1.60608881e-01  1.60833525e-05 -3.36917198e-03  3.58777934e-05\n",
            " -6.38362350e-04  1.38130588e+00 -1.60703399e-01  1.01849542e-04\n",
            " -3.06441890e-07]\n"
          ],
          "name": "stdout"
        },
        {
          "output_type": "execute_result",
          "data": {
            "text/html": [
              "<div>\n",
              "<style scoped>\n",
              "    .dataframe tbody tr th:only-of-type {\n",
              "        vertical-align: middle;\n",
              "    }\n",
              "\n",
              "    .dataframe tbody tr th {\n",
              "        vertical-align: top;\n",
              "    }\n",
              "\n",
              "    .dataframe thead th {\n",
              "        text-align: right;\n",
              "    }\n",
              "</style>\n",
              "<table border=\"1\" class=\"dataframe\">\n",
              "  <thead>\n",
              "    <tr style=\"text-align: right;\">\n",
              "      <th></th>\n",
              "      <th>Feature</th>\n",
              "      <th>Coefficients</th>\n",
              "    </tr>\n",
              "  </thead>\n",
              "  <tbody>\n",
              "    <tr>\n",
              "      <th>0</th>\n",
              "      <td>bedrooms</td>\n",
              "      <td>-1.387478e-02</td>\n",
              "    </tr>\n",
              "    <tr>\n",
              "      <th>1</th>\n",
              "      <td>bathrooms</td>\n",
              "      <td>6.716031e-02</td>\n",
              "    </tr>\n",
              "    <tr>\n",
              "      <th>2</th>\n",
              "      <td>sqft_living</td>\n",
              "      <td>1.354861e-04</td>\n",
              "    </tr>\n",
              "    <tr>\n",
              "      <th>3</th>\n",
              "      <td>sqft_lot</td>\n",
              "      <td>4.215154e-07</td>\n",
              "    </tr>\n",
              "    <tr>\n",
              "      <th>4</th>\n",
              "      <td>floors</td>\n",
              "      <td>7.522895e-02</td>\n",
              "    </tr>\n",
              "    <tr>\n",
              "      <th>5</th>\n",
              "      <td>waterfront</td>\n",
              "      <td>3.639263e-01</td>\n",
              "    </tr>\n",
              "    <tr>\n",
              "      <th>6</th>\n",
              "      <td>view</td>\n",
              "      <td>6.156152e-02</td>\n",
              "    </tr>\n",
              "    <tr>\n",
              "      <th>7</th>\n",
              "      <td>condition</td>\n",
              "      <td>6.344907e-02</td>\n",
              "    </tr>\n",
              "    <tr>\n",
              "      <th>8</th>\n",
              "      <td>grade</td>\n",
              "      <td>1.606089e-01</td>\n",
              "    </tr>\n",
              "    <tr>\n",
              "      <th>9</th>\n",
              "      <td>sqft_basement</td>\n",
              "      <td>1.608335e-05</td>\n",
              "    </tr>\n",
              "    <tr>\n",
              "      <th>10</th>\n",
              "      <td>yr_built</td>\n",
              "      <td>-3.369172e-03</td>\n",
              "    </tr>\n",
              "    <tr>\n",
              "      <th>11</th>\n",
              "      <td>yr_renovated</td>\n",
              "      <td>3.587779e-05</td>\n",
              "    </tr>\n",
              "    <tr>\n",
              "      <th>12</th>\n",
              "      <td>zipcode</td>\n",
              "      <td>-6.383623e-04</td>\n",
              "    </tr>\n",
              "    <tr>\n",
              "      <th>13</th>\n",
              "      <td>lat</td>\n",
              "      <td>1.381306e+00</td>\n",
              "    </tr>\n",
              "    <tr>\n",
              "      <th>14</th>\n",
              "      <td>long</td>\n",
              "      <td>-1.607034e-01</td>\n",
              "    </tr>\n",
              "    <tr>\n",
              "      <th>15</th>\n",
              "      <td>sqft_living15</td>\n",
              "      <td>1.018495e-04</td>\n",
              "    </tr>\n",
              "    <tr>\n",
              "      <th>16</th>\n",
              "      <td>sqft_lot15</td>\n",
              "      <td>-3.064419e-07</td>\n",
              "    </tr>\n",
              "  </tbody>\n",
              "</table>\n",
              "</div>"
            ],
            "text/plain": [
              "          Feature  Coefficients\n",
              "0        bedrooms -1.387478e-02\n",
              "1       bathrooms  6.716031e-02\n",
              "2     sqft_living  1.354861e-04\n",
              "3        sqft_lot  4.215154e-07\n",
              "4          floors  7.522895e-02\n",
              "5      waterfront  3.639263e-01\n",
              "6            view  6.156152e-02\n",
              "7       condition  6.344907e-02\n",
              "8           grade  1.606089e-01\n",
              "9   sqft_basement  1.608335e-05\n",
              "10       yr_built -3.369172e-03\n",
              "11   yr_renovated  3.587779e-05\n",
              "12        zipcode -6.383623e-04\n",
              "13            lat  1.381306e+00\n",
              "14           long -1.607034e-01\n",
              "15  sqft_living15  1.018495e-04\n",
              "16     sqft_lot15 -3.064419e-07"
            ]
          },
          "metadata": {
            "tags": []
          },
          "execution_count": 184
        }
      ]
    },
    {
      "cell_type": "code",
      "metadata": {
        "colab": {
          "base_uri": "https://localhost:8080/",
          "height": 299
        },
        "id": "k-OgVuCCpiqA",
        "outputId": "f1f0470d-b7e1-4ab7-e7ec-585dad5fe0c9"
      },
      "source": [
        "from sklearn import linear_model\n",
        "#alphas=np.logspace(-5,5,20)\n",
        "alphas=np.arange(0.1,6, 0.01)\n",
        "coefs = []\n",
        "for a in alphas:\n",
        "    ridge = linear_model.Ridge(alpha=a, fit_intercept=False)\n",
        "    ridge.fit(lX_train,log_y_train)\n",
        "    coefs.append(ridge.coef_)\n",
        "\n",
        "ax = plt.gca()\n",
        "\n",
        "ax.plot(alphas, coefs)\n",
        "ax.set_xscale('log')\n",
        "ax.set_xlim(ax.get_xlim()[::-1])  # reverse axis\n",
        "plt.xlabel('alpha')\n",
        "plt.ylabel('weights')\n",
        "plt.title('Ridge coefficients as a function of the regularization')\n",
        "plt.axis('tight')\n",
        "plt.show()\n",
        "\n",
        "# reg = linear_model.RidgeCV(alphas=np.logspace(-10,-2,20))\n",
        "# reg.fit(lX_train,log_y_train)\n",
        "# reg.fit(lX_train,log_y_train).alpha_"
      ],
      "execution_count": null,
      "outputs": [
        {
          "output_type": "display_data",
          "data": {
            "image/png": "[encoded data removed]",
            "text/plain": [
              "<Figure size 432x288 with 1 Axes>"
            ]
          },
          "metadata": {
            "tags": [],
            "needs_background": "light"
          }
        }
      ]
    },
    {
      "cell_type": "code",
      "metadata": {
        "id": "THhO0NVCGDtI"
      },
      "source": [
        "# from sklearn.model_selection import GridSearchCV\n",
        "# from sklearn.linear_model import Ridge\n",
        "# from sklearn.metrics import mean_squared_error\n",
        "\n",
        "# ridge=Ridge()\n",
        "# parameters= {'alpha':[x for x in [0,0.01,0.1,0.2,0.4,0.5,0.7,0.8,1,3,3.2,3.4,3.6,4]]}\n",
        "\n",
        "# ridge_reg=GridSearchCV(ridge, param_grid=parameters)\n",
        "# ridge_reg.fit(lX_train, log_y_train)\n",
        "# print(\"The best value of Alpha is: \",ridge_reg.best_params_)"
      ],
      "execution_count": null,
      "outputs": []
    },
    {
      "cell_type": "code",
      "metadata": {
        "colab": {
          "base_uri": "https://localhost:8080/",
          "height": 347
        },
        "id": "-AfnWE785MpG",
        "outputId": "ff88398c-633b-4ba2-ac00-2fbd23ac7994"
      },
      "source": [
        "from sklearn.metrics import mean_squared_error\n",
        "rmse=[]\n",
        "# check the below alpha values for Ridge Regression\n",
        "#alpha=[0.01, 0.03, 0.1, 0.3, 1, 3, 10, 30]\n",
        "alpha=np.logspace(-5,1,20)\n",
        "for alph in alpha:\n",
        "    ridge=Ridge(alpha=alph, copy_X=True, fit_intercept=True)\n",
        "    ridge.fit(lX_train, log_y_train)\n",
        "    predict=ridge.predict(lX_test)\n",
        "    rmse.append(np.sqrt(mean_squared_error(predict, log_y_test)))\n",
        "print(rmse)\n",
        "plt.scatter(alpha, rmse)\n",
        "rmse=pd.Series(rmse, index=alpha)\n",
        "print(rmse.argmin())\n",
        "print(rmse.min())"
      ],
      "execution_count": null,
      "outputs": [
        {
          "output_type": "stream",
          "text": [
            "[0.24907394553032688, 0.24907394545747796, 0.2490739453067462, 0.2490739449948644, 0.24907394434954985, 0.24907394301436037, 0.24907394025190702, 0.24907393453702859, 0.24907392271651158, 0.24907389827688284, 0.24907384778776692, 0.2490737436606035, 0.24907352966974713, 0.24907309314901116, 0.2490722166571232, 0.249070517038955, 0.24906748404367385, 0.24906324309552116, 0.24906286782747625, 0.24909547283520664]\n",
            "18\n",
            "0.24906286782747625\n"
          ],
          "name": "stdout"
        },
        {
          "output_type": "display_data",
          "data": {
            "image/png": "[encoded data removed]",
            "text/plain": [
              "<Figure size 432x288 with 1 Axes>"
            ]
          },
          "metadata": {
            "tags": [],
            "needs_background": "light"
          }
        }
      ]
    },
    {
      "cell_type": "code",
      "metadata": {
        "colab": {
          "base_uri": "https://localhost:8080/",
          "height": 1000
        },
        "id": "4ElC7F5r5uIb",
        "outputId": "92bd0f68-42fe-4a67-ab39-f0963f8ed22c"
      },
      "source": [
        "# Adjust alpha based on previous result\n",
        "#alpha=np.arange(0,5, 0.2)\n",
        "alpha=np.logspace(-1,1,50)\n",
        "rmse=[]\n",
        "\n",
        "for alph in alpha:\n",
        "    ridge=Ridge(alpha=alph, copy_X=True, fit_intercept=True)\n",
        "    ridge.fit(lX_train, log_y_train)\n",
        "    predict=ridge.predict(lX_test)\n",
        "    print(alph, np.sqrt(mean_squared_error(predict, log_y_test)))\n",
        "    rmse.append(np.sqrt(mean_squared_error(predict, log_y_test)))\n",
        "    \n",
        "plt.scatter(alpha, rmse)\n",
        "rmse=pd.Series(rmse, index=alpha)\n",
        "print(rmse.argmin())\n",
        "print(rmse.min())"
      ],
      "execution_count": null,
      "outputs": [
        {
          "output_type": "stream",
          "text": [
            "0.1 0.2490732739621607\n",
            "0.10985411419875583 0.24907320883156245\n",
            "0.12067926406393285 0.24907313750048896\n",
            "0.13257113655901093 0.24907305940286043\n",
            "0.14563484775012436 0.24907297392607333\n",
            "0.15998587196060582 0.24907288040833458\n",
            "0.1757510624854792 0.2490727781361088\n",
            "0.193069772888325 0.24907266634179398\n",
            "0.21209508879201905 0.24907254420173575\n",
            "0.2329951810515372 0.24907241083472828\n",
            "0.2559547922699536 0.24907226530119797\n",
            "0.281176869797423 0.24907210660329213\n",
            "0.3088843596477481 0.2490719336861784\n",
            "0.3393221771895328 0.24907174544090727\n",
            "0.372759372031494 0.2490715407092834\n",
            "0.4094915062380424 0.2490713182912988\n",
            "0.44984326689694454 0.24907107695579941\n",
            "0.49417133613238345 0.24907081545519857\n",
            "0.5428675439323859 0.24907053254525122\n",
            "0.5963623316594643 0.24907022701110018\n",
            "0.6551285568595507 0.24906989770108454\n",
            "0.7196856730011519 0.24906954357009622\n",
            "0.7906043210907697 0.24906916373467328\n",
            "0.8685113737513525 0.24906875754244187\n",
            "0.9540954763499939 0.24906832465909\n",
            "1.0481131341546859 0.2490678651766626\n",
            "1.151395399326447 0.24906737974778603\n",
            "1.2648552168552958 0.2490668697512855\n",
            "1.3894954943731375 0.24906633749578586\n",
            "1.5264179671752334 0.24906578646914024\n",
            "1.6768329368110073 0.24906522164304812\n",
            "1.8420699693267153 0.2490646498439985\n",
            "2.0235896477251565 0.24906408020373802\n",
            "2.2229964825261943 0.24906352470491852\n",
            "2.442053094548651 0.24906299884036956\n",
            "2.6826957952797246 0.2490625224077207\n",
            "2.9470517025518097 0.24906212046485396\n",
            "3.2374575428176433 0.24906182447597558\n",
            "3.5564803062231287 0.24906167368294835\n",
            "3.9069399370546147 0.24906171674206762\n",
            "4.291934260128776 0.24906201367258018\n",
            "4.714866363457392 0.24906263817000998\n",
            "5.17947467923121 0.24906368034474272\n",
            "5.689866029018296 0.24906524995416315\n",
            "6.25055192527397 0.24906748020486988\n",
            "6.866488450042998 0.24907053220981823\n",
            "7.543120063354615 0.2490746001933212\n",
            "8.286427728546842 0.24907991754419323\n",
            "9.102981779915218 0.24908676382327274\n",
            "10.0 0.24909547283520664\n",
            "38\n",
            "0.24906167368294835\n"
          ],
          "name": "stdout"
        },
        {
          "output_type": "display_data",
          "data": {
            "image/png": "[encoded data removed]",
            "text/plain": [
              "<Figure size 432x288 with 1 Axes>"
            ]
          },
          "metadata": {
            "tags": [],
            "needs_background": "light"
          }
        }
      ]
    },
    {
      "cell_type": "code",
      "metadata": {
        "colab": {
          "base_uri": "https://localhost:8080/",
          "height": 253
        },
        "id": "pESBtF9j3kN3",
        "outputId": "17a01058-02a0-4412-bb01-02aa0b036370"
      },
      "source": [
        "# one hot encode zipcodes\n",
        "\n",
        "zip_dummies = pd.get_dummies(X, columns=['zipcode'], drop_first=True)\n",
        "zip_dummies.head()"
      ],
      "execution_count": null,
      "outputs": [
        {
          "output_type": "execute_result",
          "data": {
            "text/html": [
              "<div>\n",
              "<style scoped>\n",
              "    .dataframe tbody tr th:only-of-type {\n",
              "        vertical-align: middle;\n",
              "    }\n",
              "\n",
              "    .dataframe tbody tr th {\n",
              "        vertical-align: top;\n",
              "    }\n",
              "\n",
              "    .dataframe thead th {\n",
              "        text-align: right;\n",
              "    }\n",
              "</style>\n",
              "<table border=\"1\" class=\"dataframe\">\n",
              "  <thead>\n",
              "    <tr style=\"text-align: right;\">\n",
              "      <th></th>\n",
              "      <th>bedrooms</th>\n",
              "      <th>bathrooms</th>\n",
              "      <th>sqft_living</th>\n",
              "      <th>sqft_lot</th>\n",
              "      <th>floors</th>\n",
              "      <th>waterfront</th>\n",
              "      <th>view</th>\n",
              "      <th>condition</th>\n",
              "      <th>grade</th>\n",
              "      <th>sqft_basement</th>\n",
              "      <th>yr_built</th>\n",
              "      <th>yr_renovated</th>\n",
              "      <th>lat</th>\n",
              "      <th>long</th>\n",
              "      <th>sqft_living15</th>\n",
              "      <th>sqft_lot15</th>\n",
              "      <th>zipcode_98002</th>\n",
              "      <th>zipcode_98003</th>\n",
              "      <th>zipcode_98004</th>\n",
              "      <th>zipcode_98005</th>\n",
              "      <th>zipcode_98006</th>\n",
              "      <th>zipcode_98007</th>\n",
              "      <th>zipcode_98008</th>\n",
              "      <th>zipcode_98010</th>\n",
              "      <th>zipcode_98011</th>\n",
              "      <th>zipcode_98014</th>\n",
              "      <th>zipcode_98019</th>\n",
              "      <th>zipcode_98022</th>\n",
              "      <th>zipcode_98023</th>\n",
              "      <th>zipcode_98024</th>\n",
              "      <th>zipcode_98027</th>\n",
              "      <th>zipcode_98028</th>\n",
              "      <th>zipcode_98029</th>\n",
              "      <th>zipcode_98030</th>\n",
              "      <th>zipcode_98031</th>\n",
              "      <th>zipcode_98032</th>\n",
              "      <th>zipcode_98033</th>\n",
              "      <th>zipcode_98034</th>\n",
              "      <th>zipcode_98038</th>\n",
              "      <th>zipcode_98039</th>\n",
              "      <th>...</th>\n",
              "      <th>zipcode_98055</th>\n",
              "      <th>zipcode_98056</th>\n",
              "      <th>zipcode_98058</th>\n",
              "      <th>zipcode_98059</th>\n",
              "      <th>zipcode_98065</th>\n",
              "      <th>zipcode_98070</th>\n",
              "      <th>zipcode_98072</th>\n",
              "      <th>zipcode_98074</th>\n",
              "      <th>zipcode_98075</th>\n",
              "      <th>zipcode_98077</th>\n",
              "      <th>zipcode_98092</th>\n",
              "      <th>zipcode_98102</th>\n",
              "      <th>zipcode_98103</th>\n",
              "      <th>zipcode_98105</th>\n",
              "      <th>zipcode_98106</th>\n",
              "      <th>zipcode_98107</th>\n",
              "      <th>zipcode_98108</th>\n",
              "      <th>zipcode_98109</th>\n",
              "      <th>zipcode_98112</th>\n",
              "      <th>zipcode_98115</th>\n",
              "      <th>zipcode_98116</th>\n",
              "      <th>zipcode_98117</th>\n",
              "      <th>zipcode_98118</th>\n",
              "      <th>zipcode_98119</th>\n",
              "      <th>zipcode_98122</th>\n",
              "      <th>zipcode_98125</th>\n",
              "      <th>zipcode_98126</th>\n",
              "      <th>zipcode_98133</th>\n",
              "      <th>zipcode_98136</th>\n",
              "      <th>zipcode_98144</th>\n",
              "      <th>zipcode_98146</th>\n",
              "      <th>zipcode_98148</th>\n",
              "      <th>zipcode_98155</th>\n",
              "      <th>zipcode_98166</th>\n",
              "      <th>zipcode_98168</th>\n",
              "      <th>zipcode_98177</th>\n",
              "      <th>zipcode_98178</th>\n",
              "      <th>zipcode_98188</th>\n",
              "      <th>zipcode_98198</th>\n",
              "      <th>zipcode_98199</th>\n",
              "    </tr>\n",
              "  </thead>\n",
              "  <tbody>\n",
              "    <tr>\n",
              "      <th>0</th>\n",
              "      <td>3</td>\n",
              "      <td>1.00</td>\n",
              "      <td>1180</td>\n",
              "      <td>5650</td>\n",
              "      <td>1.0</td>\n",
              "      <td>0</td>\n",
              "      <td>0</td>\n",
              "      <td>3</td>\n",
              "      <td>7</td>\n",
              "      <td>0</td>\n",
              "      <td>1955</td>\n",
              "      <td>0</td>\n",
              "      <td>47.5112</td>\n",
              "      <td>-122.257</td>\n",
              "      <td>1340</td>\n",
              "      <td>5650</td>\n",
              "      <td>0</td>\n",
              "      <td>0</td>\n",
              "      <td>0</td>\n",
              "      <td>0</td>\n",
              "      <td>0</td>\n",
              "      <td>0</td>\n",
              "      <td>0</td>\n",
              "      <td>0</td>\n",
              "      <td>0</td>\n",
              "      <td>0</td>\n",
              "      <td>0</td>\n",
              "      <td>0</td>\n",
              "      <td>0</td>\n",
              "      <td>0</td>\n",
              "      <td>0</td>\n",
              "      <td>0</td>\n",
              "      <td>0</td>\n",
              "      <td>0</td>\n",
              "      <td>0</td>\n",
              "      <td>0</td>\n",
              "      <td>0</td>\n",
              "      <td>0</td>\n",
              "      <td>0</td>\n",
              "      <td>0</td>\n",
              "      <td>...</td>\n",
              "      <td>0</td>\n",
              "      <td>0</td>\n",
              "      <td>0</td>\n",
              "      <td>0</td>\n",
              "      <td>0</td>\n",
              "      <td>0</td>\n",
              "      <td>0</td>\n",
              "      <td>0</td>\n",
              "      <td>0</td>\n",
              "      <td>0</td>\n",
              "      <td>0</td>\n",
              "      <td>0</td>\n",
              "      <td>0</td>\n",
              "      <td>0</td>\n",
              "      <td>0</td>\n",
              "      <td>0</td>\n",
              "      <td>0</td>\n",
              "      <td>0</td>\n",
              "      <td>0</td>\n",
              "      <td>0</td>\n",
              "      <td>0</td>\n",
              "      <td>0</td>\n",
              "      <td>0</td>\n",
              "      <td>0</td>\n",
              "      <td>0</td>\n",
              "      <td>0</td>\n",
              "      <td>0</td>\n",
              "      <td>0</td>\n",
              "      <td>0</td>\n",
              "      <td>0</td>\n",
              "      <td>0</td>\n",
              "      <td>0</td>\n",
              "      <td>0</td>\n",
              "      <td>0</td>\n",
              "      <td>0</td>\n",
              "      <td>0</td>\n",
              "      <td>1</td>\n",
              "      <td>0</td>\n",
              "      <td>0</td>\n",
              "      <td>0</td>\n",
              "    </tr>\n",
              "    <tr>\n",
              "      <th>1</th>\n",
              "      <td>3</td>\n",
              "      <td>2.25</td>\n",
              "      <td>2570</td>\n",
              "      <td>7242</td>\n",
              "      <td>2.0</td>\n",
              "      <td>0</td>\n",
              "      <td>0</td>\n",
              "      <td>3</td>\n",
              "      <td>7</td>\n",
              "      <td>400</td>\n",
              "      <td>1951</td>\n",
              "      <td>1991</td>\n",
              "      <td>47.7210</td>\n",
              "      <td>-122.319</td>\n",
              "      <td>1690</td>\n",
              "      <td>7639</td>\n",
              "      <td>0</td>\n",
              "      <td>0</td>\n",
              "      <td>0</td>\n",
              "      <td>0</td>\n",
              "      <td>0</td>\n",
              "      <td>0</td>\n",
              "      <td>0</td>\n",
              "      <td>0</td>\n",
              "      <td>0</td>\n",
              "      <td>0</td>\n",
              "      <td>0</td>\n",
              "      <td>0</td>\n",
              "      <td>0</td>\n",
              "      <td>0</td>\n",
              "      <td>0</td>\n",
              "      <td>0</td>\n",
              "      <td>0</td>\n",
              "      <td>0</td>\n",
              "      <td>0</td>\n",
              "      <td>0</td>\n",
              "      <td>0</td>\n",
              "      <td>0</td>\n",
              "      <td>0</td>\n",
              "      <td>0</td>\n",
              "      <td>...</td>\n",
              "      <td>0</td>\n",
              "      <td>0</td>\n",
              "      <td>0</td>\n",
              "      <td>0</td>\n",
              "      <td>0</td>\n",
              "      <td>0</td>\n",
              "      <td>0</td>\n",
              "      <td>0</td>\n",
              "      <td>0</td>\n",
              "      <td>0</td>\n",
              "      <td>0</td>\n",
              "      <td>0</td>\n",
              "      <td>0</td>\n",
              "      <td>0</td>\n",
              "      <td>0</td>\n",
              "      <td>0</td>\n",
              "      <td>0</td>\n",
              "      <td>0</td>\n",
              "      <td>0</td>\n",
              "      <td>0</td>\n",
              "      <td>0</td>\n",
              "      <td>0</td>\n",
              "      <td>0</td>\n",
              "      <td>0</td>\n",
              "      <td>0</td>\n",
              "      <td>1</td>\n",
              "      <td>0</td>\n",
              "      <td>0</td>\n",
              "      <td>0</td>\n",
              "      <td>0</td>\n",
              "      <td>0</td>\n",
              "      <td>0</td>\n",
              "      <td>0</td>\n",
              "      <td>0</td>\n",
              "      <td>0</td>\n",
              "      <td>0</td>\n",
              "      <td>0</td>\n",
              "      <td>0</td>\n",
              "      <td>0</td>\n",
              "      <td>0</td>\n",
              "    </tr>\n",
              "    <tr>\n",
              "      <th>2</th>\n",
              "      <td>2</td>\n",
              "      <td>1.00</td>\n",
              "      <td>770</td>\n",
              "      <td>10000</td>\n",
              "      <td>1.0</td>\n",
              "      <td>0</td>\n",
              "      <td>0</td>\n",
              "      <td>3</td>\n",
              "      <td>6</td>\n",
              "      <td>0</td>\n",
              "      <td>1933</td>\n",
              "      <td>0</td>\n",
              "      <td>47.7379</td>\n",
              "      <td>-122.233</td>\n",
              "      <td>2720</td>\n",
              "      <td>8062</td>\n",
              "      <td>0</td>\n",
              "      <td>0</td>\n",
              "      <td>0</td>\n",
              "      <td>0</td>\n",
              "      <td>0</td>\n",
              "      <td>0</td>\n",
              "      <td>0</td>\n",
              "      <td>0</td>\n",
              "      <td>0</td>\n",
              "      <td>0</td>\n",
              "      <td>0</td>\n",
              "      <td>0</td>\n",
              "      <td>0</td>\n",
              "      <td>0</td>\n",
              "      <td>0</td>\n",
              "      <td>1</td>\n",
              "      <td>0</td>\n",
              "      <td>0</td>\n",
              "      <td>0</td>\n",
              "      <td>0</td>\n",
              "      <td>0</td>\n",
              "      <td>0</td>\n",
              "      <td>0</td>\n",
              "      <td>0</td>\n",
              "      <td>...</td>\n",
              "      <td>0</td>\n",
              "      <td>0</td>\n",
              "      <td>0</td>\n",
              "      <td>0</td>\n",
              "      <td>0</td>\n",
              "      <td>0</td>\n",
              "      <td>0</td>\n",
              "      <td>0</td>\n",
              "      <td>0</td>\n",
              "      <td>0</td>\n",
              "      <td>0</td>\n",
              "      <td>0</td>\n",
              "      <td>0</td>\n",
              "      <td>0</td>\n",
              "      <td>0</td>\n",
              "      <td>0</td>\n",
              "      <td>0</td>\n",
              "      <td>0</td>\n",
              "      <td>0</td>\n",
              "      <td>0</td>\n",
              "      <td>0</td>\n",
              "      <td>0</td>\n",
              "      <td>0</td>\n",
              "      <td>0</td>\n",
              "      <td>0</td>\n",
              "      <td>0</td>\n",
              "      <td>0</td>\n",
              "      <td>0</td>\n",
              "      <td>0</td>\n",
              "      <td>0</td>\n",
              "      <td>0</td>\n",
              "      <td>0</td>\n",
              "      <td>0</td>\n",
              "      <td>0</td>\n",
              "      <td>0</td>\n",
              "      <td>0</td>\n",
              "      <td>0</td>\n",
              "      <td>0</td>\n",
              "      <td>0</td>\n",
              "      <td>0</td>\n",
              "    </tr>\n",
              "    <tr>\n",
              "      <th>3</th>\n",
              "      <td>4</td>\n",
              "      <td>3.00</td>\n",
              "      <td>1960</td>\n",
              "      <td>5000</td>\n",
              "      <td>1.0</td>\n",
              "      <td>0</td>\n",
              "      <td>0</td>\n",
              "      <td>5</td>\n",
              "      <td>7</td>\n",
              "      <td>910</td>\n",
              "      <td>1965</td>\n",
              "      <td>0</td>\n",
              "      <td>47.5208</td>\n",
              "      <td>-122.393</td>\n",
              "      <td>1360</td>\n",
              "      <td>5000</td>\n",
              "      <td>0</td>\n",
              "      <td>0</td>\n",
              "      <td>0</td>\n",
              "      <td>0</td>\n",
              "      <td>0</td>\n",
              "      <td>0</td>\n",
              "      <td>0</td>\n",
              "      <td>0</td>\n",
              "      <td>0</td>\n",
              "      <td>0</td>\n",
              "      <td>0</td>\n",
              "      <td>0</td>\n",
              "      <td>0</td>\n",
              "      <td>0</td>\n",
              "      <td>0</td>\n",
              "      <td>0</td>\n",
              "      <td>0</td>\n",
              "      <td>0</td>\n",
              "      <td>0</td>\n",
              "      <td>0</td>\n",
              "      <td>0</td>\n",
              "      <td>0</td>\n",
              "      <td>0</td>\n",
              "      <td>0</td>\n",
              "      <td>...</td>\n",
              "      <td>0</td>\n",
              "      <td>0</td>\n",
              "      <td>0</td>\n",
              "      <td>0</td>\n",
              "      <td>0</td>\n",
              "      <td>0</td>\n",
              "      <td>0</td>\n",
              "      <td>0</td>\n",
              "      <td>0</td>\n",
              "      <td>0</td>\n",
              "      <td>0</td>\n",
              "      <td>0</td>\n",
              "      <td>0</td>\n",
              "      <td>0</td>\n",
              "      <td>0</td>\n",
              "      <td>0</td>\n",
              "      <td>0</td>\n",
              "      <td>0</td>\n",
              "      <td>0</td>\n",
              "      <td>0</td>\n",
              "      <td>0</td>\n",
              "      <td>0</td>\n",
              "      <td>0</td>\n",
              "      <td>0</td>\n",
              "      <td>0</td>\n",
              "      <td>0</td>\n",
              "      <td>0</td>\n",
              "      <td>0</td>\n",
              "      <td>1</td>\n",
              "      <td>0</td>\n",
              "      <td>0</td>\n",
              "      <td>0</td>\n",
              "      <td>0</td>\n",
              "      <td>0</td>\n",
              "      <td>0</td>\n",
              "      <td>0</td>\n",
              "      <td>0</td>\n",
              "      <td>0</td>\n",
              "      <td>0</td>\n",
              "      <td>0</td>\n",
              "    </tr>\n",
              "    <tr>\n",
              "      <th>4</th>\n",
              "      <td>3</td>\n",
              "      <td>2.00</td>\n",
              "      <td>1680</td>\n",
              "      <td>8080</td>\n",
              "      <td>1.0</td>\n",
              "      <td>0</td>\n",
              "      <td>0</td>\n",
              "      <td>3</td>\n",
              "      <td>8</td>\n",
              "      <td>0</td>\n",
              "      <td>1987</td>\n",
              "      <td>0</td>\n",
              "      <td>47.6168</td>\n",
              "      <td>-122.045</td>\n",
              "      <td>1800</td>\n",
              "      <td>7503</td>\n",
              "      <td>0</td>\n",
              "      <td>0</td>\n",
              "      <td>0</td>\n",
              "      <td>0</td>\n",
              "      <td>0</td>\n",
              "      <td>0</td>\n",
              "      <td>0</td>\n",
              "      <td>0</td>\n",
              "      <td>0</td>\n",
              "      <td>0</td>\n",
              "      <td>0</td>\n",
              "      <td>0</td>\n",
              "      <td>0</td>\n",
              "      <td>0</td>\n",
              "      <td>0</td>\n",
              "      <td>0</td>\n",
              "      <td>0</td>\n",
              "      <td>0</td>\n",
              "      <td>0</td>\n",
              "      <td>0</td>\n",
              "      <td>0</td>\n",
              "      <td>0</td>\n",
              "      <td>0</td>\n",
              "      <td>0</td>\n",
              "      <td>...</td>\n",
              "      <td>0</td>\n",
              "      <td>0</td>\n",
              "      <td>0</td>\n",
              "      <td>0</td>\n",
              "      <td>0</td>\n",
              "      <td>0</td>\n",
              "      <td>0</td>\n",
              "      <td>1</td>\n",
              "      <td>0</td>\n",
              "      <td>0</td>\n",
              "      <td>0</td>\n",
              "      <td>0</td>\n",
              "      <td>0</td>\n",
              "      <td>0</td>\n",
              "      <td>0</td>\n",
              "      <td>0</td>\n",
              "      <td>0</td>\n",
              "      <td>0</td>\n",
              "      <td>0</td>\n",
              "      <td>0</td>\n",
              "      <td>0</td>\n",
              "      <td>0</td>\n",
              "      <td>0</td>\n",
              "      <td>0</td>\n",
              "      <td>0</td>\n",
              "      <td>0</td>\n",
              "      <td>0</td>\n",
              "      <td>0</td>\n",
              "      <td>0</td>\n",
              "      <td>0</td>\n",
              "      <td>0</td>\n",
              "      <td>0</td>\n",
              "      <td>0</td>\n",
              "      <td>0</td>\n",
              "      <td>0</td>\n",
              "      <td>0</td>\n",
              "      <td>0</td>\n",
              "      <td>0</td>\n",
              "      <td>0</td>\n",
              "      <td>0</td>\n",
              "    </tr>\n",
              "  </tbody>\n",
              "</table>\n",
              "<p>5 rows × 85 columns</p>\n",
              "</div>"
            ],
            "text/plain": [
              "   bedrooms  bathrooms  ...  zipcode_98198  zipcode_98199\n",
              "0         3       1.00  ...              0              0\n",
              "1         3       2.25  ...              0              0\n",
              "2         2       1.00  ...              0              0\n",
              "3         4       3.00  ...              0              0\n",
              "4         3       2.00  ...              0              0\n",
              "\n",
              "[5 rows x 85 columns]"
            ]
          },
          "metadata": {
            "tags": []
          },
          "execution_count": 99
        }
      ]
    },
    {
      "cell_type": "code",
      "metadata": {
        "colab": {
          "base_uri": "https://localhost:8080/"
        },
        "id": "a_l6XiIC4QnU",
        "outputId": "d82d4583-e576-4e94-98ad-000dce950ee9"
      },
      "source": [
        "# Linear regression with one hot encoded zipcodes and price\n",
        "\n",
        "zip_X = zip_dummies.loc[:,~zip_dummies.columns.isin(['price','id','date'])]\n",
        "zip_X_train, zip_X_test, y_train, y_test = train_test_split(zip_X, y, test_size=0.2, random_state=0)\n",
        "\n",
        "lr = LinearRegression().fit(zip_X_train, y_train)\n",
        "price_pred = lr.predict(zip_X_test)\n",
        "print(lr.score(zip_X_test,y_test))"
      ],
      "execution_count": null,
      "outputs": [
        {
          "output_type": "stream",
          "text": [
            "0.8243593368070945\n"
          ],
          "name": "stdout"
        }
      ]
    },
    {
      "cell_type": "code",
      "metadata": {
        "colab": {
          "base_uri": "https://localhost:8080/"
        },
        "id": "eXhT4cL_4oE8",
        "outputId": "4bc8c1c6-34b2-4abc-8149-6b8737d2ba19"
      },
      "source": [
        "# Linear regression with one hot encoded zipcodes and log_price\n",
        "\n",
        "zip_lX_train, zip_lX_test, log_y_train, log_y_test = train_test_split(zip_X, log_y, test_size=0.2, random_state=0)\n",
        "lr = LinearRegression().fit(zip_lX_train, log_y_train)\n",
        "price_pred = lr.predict(zip_lX_test)\n",
        "print(lr.score(zip_lX_test,log_y_test))"
      ],
      "execution_count": null,
      "outputs": [
        {
          "output_type": "stream",
          "text": [
            "0.880055296370813\n"
          ],
          "name": "stdout"
        }
      ]
    },
    {
      "cell_type": "code",
      "metadata": {
        "colab": {
          "base_uri": "https://localhost:8080/"
        },
        "id": "irVw9z4m55Es",
        "outputId": "76073c99-4e8c-4a07-d9a8-175f6754fd80"
      },
      "source": [
        "# Ridge regression... I think\n",
        "# doesn't seem to be better than linear based on score?\n",
        "\n",
        "#from sklearn.linear_model import Ridge\n",
        "\n",
        "for i in range(1,20):\n",
        "  clf = Ridge(alpha = i*(0.2/20))\n",
        "  clf.fit(zip_lX_train,log_y_train)\n",
        "  print(i*(0.2/20), \":\", clf.score(zip_X_test,log_y_test))"
      ],
      "execution_count": null,
      "outputs": [
        {
          "output_type": "stream",
          "text": [
            "0.01 : 0.8800519394546452\n",
            "0.02 : 0.880048242377684\n",
            "0.03 : 0.8800442376094689\n",
            "0.04 : 0.8800399548052521\n",
            "0.05 : 0.8800354210663264\n",
            "0.06 : 0.8800306611751867\n",
            "0.07 : 0.8800256978068881\n",
            "0.08 : 0.8800205517192586\n",
            "0.09 : 0.8800152419242788\n",
            "0.1 : 0.8800097858426872\n",
            "0.11 : 0.8800041994436132\n",
            "0.12 : 0.8799984973708306\n",
            "0.13 : 0.8799926930570272\n",
            "0.14 : 0.8799867988273584\n",
            "0.15 : 0.8799808259933629\n",
            "0.16 : 0.8799747849382403\n",
            "0.17 : 0.8799686851943543\n",
            "0.18 : 0.8799625355137323\n",
            "0.19 : 0.8799563439322563\n"
          ],
          "name": "stdout"
        }
      ]
    },
    {
      "cell_type": "code",
      "metadata": {
        "id": "8gLh-KR770wb",
        "colab": {
          "base_uri": "https://localhost:8080/"
        },
        "outputId": "f9b9d889-d33a-4841-fc3c-9da44a75af26"
      },
      "source": [
        "clf = Ridge(alpha = 1)\n",
        "clf.fit(zip_lX_train,log_y_train)\n",
        "print(i*(0.2/20), \":\", clf.score(zip_lX_test,log_y_test))\n",
        "print(clf)\n",
        "print(clf.coef_)"
      ],
      "execution_count": null,
      "outputs": [
        {
          "output_type": "stream",
          "text": [
            "0.19 : 0.8795309736514495\n",
            "Ridge(alpha=1, copy_X=True, fit_intercept=True, max_iter=None, normalize=False,\n",
            "      random_state=None, solver='auto', tol=0.001)\n",
            "[ 3.45070484e-03  3.76882938e-02  1.94794954e-04  5.92097184e-07\n",
            " -2.82274009e-02  4.66752298e-01  5.88924626e-02  5.93520709e-02\n",
            "  9.45793810e-02 -6.83838384e-05 -3.95518544e-04  4.11710868e-05\n",
            "  1.06413076e+00 -2.62451038e-01  8.92096005e-05  1.96395229e-08\n",
            " -7.02102767e-02 -4.59295770e-02  7.31088592e-01  3.82436139e-01\n",
            "  3.33849438e-01  2.90355297e-01  3.09204015e-01  2.33242162e-01\n",
            " -4.49655988e-02 -3.44941630e-02 -7.38686881e-02  1.65014103e-01\n",
            " -9.65449880e-02  1.93632785e-01  2.88610573e-01 -8.91688894e-02\n",
            "  3.54324419e-01 -3.03594688e-02 -4.49543572e-02 -1.39252878e-01\n",
            "  3.64053170e-01  7.27469500e-02  1.26352184e-01  7.99427813e-01\n",
            "  5.36206565e-01 -4.10634134e-03  2.53635635e-01  2.32864832e-01\n",
            "  2.06910427e-01 -5.03213041e-02  7.73334929e-02  4.65144907e-03\n",
            "  1.30939298e-01  2.16968718e-01  1.18477450e-01  1.21419392e-02\n",
            "  2.28561277e-01  2.57678333e-01 -2.07989881e-02  1.83349728e-02\n",
            "  5.16761244e-01  3.48380834e-01  4.94129843e-01  1.69179370e-02\n",
            "  3.67554566e-01  3.24927670e-02  5.41004776e-01  6.25358920e-01\n",
            "  3.50497188e-01  3.93671536e-01  3.21171299e-01  1.49043673e-01\n",
            "  5.16480730e-01  4.12273373e-01  7.97814836e-02  2.04304333e-01\n",
            " -7.04428591e-02  3.36511936e-01  2.95052744e-01 -2.51822560e-02\n",
            " -5.39844760e-02 -1.06333136e-01  9.25248929e-02 -1.86893548e-01\n",
            "  5.52961135e-02 -1.07325641e-01 -9.59687815e-02 -8.35740792e-02\n",
            "  4.09724095e-01]\n"
          ],
          "name": "stdout"
        }
      ]
    },
    {
      "cell_type": "code",
      "metadata": {
        "colab": {
          "base_uri": "https://localhost:8080/"
        },
        "id": "qbKMQlKOP2VZ",
        "outputId": "a10589b8-8bdd-447e-b62b-59075cd09887"
      },
      "source": [
        "print(lr.coef_)"
      ],
      "execution_count": null,
      "outputs": [
        {
          "output_type": "stream",
          "text": [
            "[ 3.55345469e-03  3.70843451e-02  1.95912582e-04  5.92592021e-07\n",
            " -3.07436283e-02  4.68147091e-01  5.85870305e-02  5.89851568e-02\n",
            "  9.36375040e-02 -6.99666605e-05 -3.33183745e-04  4.17614451e-05\n",
            "  5.62705706e-01 -3.68121425e-01  8.90901980e-05  2.34703810e-08\n",
            " -2.25644783e-02 -4.72680125e-03  9.39294490e-01  5.90754432e-01\n",
            "  5.16552567e-01  5.01683808e-01  5.22528924e-01  3.19802392e-01\n",
            "  2.28615865e-01  2.36559473e-01  2.15299727e-01  1.88628257e-01\n",
            " -6.41494873e-02  4.02554737e-01  4.63207114e-01  1.79740494e-01\n",
            "  5.52706232e-01  5.06168077e-02  5.33018978e-02 -6.65188840e-02\n",
            "  6.03056863e-01  3.28516917e-01  2.24862532e-01  1.02715752e+00\n",
            "  7.13628094e-01  8.23238225e-02  4.34270478e-01  4.78823818e-01\n",
            "  4.61944876e-01  7.46348024e-02  2.30176359e-01  1.29207307e-01\n",
            "  2.79818236e-01  4.14807979e-01  1.96214979e-01  2.91380562e-01\n",
            "  4.54256960e-01  4.67474959e-01  2.63819843e-01  6.74843306e-02\n",
            "  7.27652306e-01  5.70745052e-01  7.18819109e-01  1.64700001e-01\n",
            "  5.84290864e-01  1.92871276e-01  7.48558895e-01  8.32775418e-01\n",
            "  5.81444679e-01  5.60127623e-01  5.44677771e-01  3.10780965e-01\n",
            "  7.22099642e-01  6.07874022e-01  3.25038634e-01  3.56203130e-01\n",
            "  1.79137201e-01  4.85491302e-01  4.77342061e-01  1.05040502e-01\n",
            "  4.56595991e-02  1.56665695e-01  2.00911855e-01 -5.79401923e-02\n",
            "  3.06170448e-01  3.32367073e-02  1.36452390e-02 -5.64775176e-03\n",
            "  6.12944718e-01]\n"
          ],
          "name": "stdout"
        }
      ]
    },
    {
      "cell_type": "code",
      "metadata": {
        "colab": {
          "base_uri": "https://localhost:8080/"
        },
        "id": "x4IXVc0hP_u1",
        "outputId": "635b73d2-1c68-4ab6-f346-81fe8fb73a9b"
      },
      "source": [
        "print(zip_X_train.columns)"
      ],
      "execution_count": null,
      "outputs": [
        {
          "output_type": "stream",
          "text": [
            "Index(['bedrooms', 'bathrooms', 'sqft_living', 'sqft_lot', 'floors',\n",
            "       'waterfront', 'view', 'condition', 'grade', 'sqft_basement', 'yr_built',\n",
            "       'yr_renovated', 'lat', 'long', 'sqft_living15', 'sqft_lot15',\n",
            "       'zipcode_98002', 'zipcode_98003', 'zipcode_98004', 'zipcode_98005',\n",
            "       'zipcode_98006', 'zipcode_98007', 'zipcode_98008', 'zipcode_98010',\n",
            "       'zipcode_98011', 'zipcode_98014', 'zipcode_98019', 'zipcode_98022',\n",
            "       'zipcode_98023', 'zipcode_98024', 'zipcode_98027', 'zipcode_98028',\n",
            "       'zipcode_98029', 'zipcode_98030', 'zipcode_98031', 'zipcode_98032',\n",
            "       'zipcode_98033', 'zipcode_98034', 'zipcode_98038', 'zipcode_98039',\n",
            "       'zipcode_98040', 'zipcode_98042', 'zipcode_98045', 'zipcode_98052',\n",
            "       'zipcode_98053', 'zipcode_98055', 'zipcode_98056', 'zipcode_98058',\n",
            "       'zipcode_98059', 'zipcode_98065', 'zipcode_98070', 'zipcode_98072',\n",
            "       'zipcode_98074', 'zipcode_98075', 'zipcode_98077', 'zipcode_98092',\n",
            "       'zipcode_98102', 'zipcode_98103', 'zipcode_98105', 'zipcode_98106',\n",
            "       'zipcode_98107', 'zipcode_98108', 'zipcode_98109', 'zipcode_98112',\n",
            "       'zipcode_98115', 'zipcode_98116', 'zipcode_98117', 'zipcode_98118',\n",
            "       'zipcode_98119', 'zipcode_98122', 'zipcode_98125', 'zipcode_98126',\n",
            "       'zipcode_98133', 'zipcode_98136', 'zipcode_98144', 'zipcode_98146',\n",
            "       'zipcode_98148', 'zipcode_98155', 'zipcode_98166', 'zipcode_98168',\n",
            "       'zipcode_98177', 'zipcode_98178', 'zipcode_98188', 'zipcode_98198',\n",
            "       'zipcode_98199'],\n",
            "      dtype='object')\n"
          ],
          "name": "stdout"
        }
      ]
    },
    {
      "cell_type": "code",
      "metadata": {
        "id": "Pb1QuviOSkCq"
      },
      "source": [
        "#zip_dummies2 = zip_dummies\n",
        "#zip_dummies2['last_worked'] = ([zip_dummies2['yr_renovated'],zip_dummies2['yr_built']]).max()\n",
        "#zip_dummies2.head()"
      ],
      "execution_count": null,
      "outputs": []
    },
    {
      "cell_type": "code",
      "metadata": {
        "colab": {
          "base_uri": "https://localhost:8080/"
        },
        "id": "4kl5yLtiMRp4",
        "outputId": "4f908c86-709e-4a9f-c533-a59cd57b30e6"
      },
      "source": [
        "# Linear regression with sqft_living and price\n",
        "sqft_X = np.log(zip_dummies['sqft_living'])\n",
        "sqft_lX_train, sqft_lX_test, y_train, y_test = train_test_split(sqft_X, log_y, test_size=0.2, random_state=0)\n",
        "sqft_lX_train = sqft_lX_train.values.reshape(-1,1)\n",
        "sqft_lX_test = sqft_lX_test.values.reshape(-1,1)\n",
        "lr = LinearRegression().fit(sqft_lX_train, y_train)\n",
        "price_pred = lr.predict(sqft_lX_test)\n",
        "print(lr.score(sqft_lX_test,y_test))"
      ],
      "execution_count": null,
      "outputs": [
        {
          "output_type": "stream",
          "text": [
            "0.4673594871862819\n"
          ],
          "name": "stdout"
        }
      ]
    },
    {
      "cell_type": "code",
      "metadata": {
        "id": "wrFJz_ZfFxq2"
      },
      "source": [
        ""
      ],
      "execution_count": null,
      "outputs": []
    },
    {
      "cell_type": "code",
      "metadata": {
        "colab": {
          "base_uri": "https://localhost:8080/",
          "height": 395
        },
        "id": "bFReVZmAFyFM",
        "outputId": "17a9c92a-34b0-4e27-cb50-b0d47904ec6a"
      },
      "source": [
        "# Linear regression with sqft_living and price\n",
        "sqft_X = np.log(zip_dummies['sqft_living'])\n",
        "sqft_lX_train, sqft_lX_test, y_train, y_test = train_test_split(X, log_y, test_size=0.2, random_state=0)\n",
        "\n",
        "sqft_lX_train = sqft_lX_train.values.reshape(-1,1)\n",
        "sqft_lX_test = sqft_lX_test.values.reshape(-1,1)\n",
        "lr = LinearRegression().fit(sqft_lX_train, y_train)\n",
        "price_pred1 = lr.predict(sqft_lX_test)\n",
        "print(lr.score(sqft_lX_test,y_test))"
      ],
      "execution_count": null,
      "outputs": [
        {
          "output_type": "error",
          "ename": "ValueError",
          "evalue": "ignored",
          "traceback": [
            "\u001b[0;31m---------------------------------------------------------------------------\u001b[0m",
            "\u001b[0;31mValueError\u001b[0m                                Traceback (most recent call last)",
            "\u001b[0;32m<ipython-input-194-7d31fac13c61>\u001b[0m in \u001b[0;36m<module>\u001b[0;34m()\u001b[0m\n\u001b[1;32m      5\u001b[0m \u001b[0msqft_lX_train\u001b[0m \u001b[0;34m=\u001b[0m \u001b[0msqft_lX_train\u001b[0m\u001b[0;34m.\u001b[0m\u001b[0mvalues\u001b[0m\u001b[0;34m.\u001b[0m\u001b[0mreshape\u001b[0m\u001b[0;34m(\u001b[0m\u001b[0;34m-\u001b[0m\u001b[0;36m1\u001b[0m\u001b[0;34m,\u001b[0m\u001b[0;36m1\u001b[0m\u001b[0;34m)\u001b[0m\u001b[0;34m\u001b[0m\u001b[0;34m\u001b[0m\u001b[0m\n\u001b[1;32m      6\u001b[0m \u001b[0msqft_lX_test\u001b[0m \u001b[0;34m=\u001b[0m \u001b[0msqft_lX_test\u001b[0m\u001b[0;34m.\u001b[0m\u001b[0mvalues\u001b[0m\u001b[0;34m.\u001b[0m\u001b[0mreshape\u001b[0m\u001b[0;34m(\u001b[0m\u001b[0;34m-\u001b[0m\u001b[0;36m1\u001b[0m\u001b[0;34m,\u001b[0m\u001b[0;36m1\u001b[0m\u001b[0;34m)\u001b[0m\u001b[0;34m\u001b[0m\u001b[0;34m\u001b[0m\u001b[0m\n\u001b[0;32m----> 7\u001b[0;31m \u001b[0mlr\u001b[0m \u001b[0;34m=\u001b[0m \u001b[0mLinearRegression\u001b[0m\u001b[0;34m(\u001b[0m\u001b[0;34m)\u001b[0m\u001b[0;34m.\u001b[0m\u001b[0mfit\u001b[0m\u001b[0;34m(\u001b[0m\u001b[0msqft_lX_train\u001b[0m\u001b[0;34m,\u001b[0m \u001b[0my_train\u001b[0m\u001b[0;34m)\u001b[0m\u001b[0;34m\u001b[0m\u001b[0;34m\u001b[0m\u001b[0m\n\u001b[0m\u001b[1;32m      8\u001b[0m \u001b[0mprice_pred1\u001b[0m \u001b[0;34m=\u001b[0m \u001b[0mlr\u001b[0m\u001b[0;34m.\u001b[0m\u001b[0mpredict\u001b[0m\u001b[0;34m(\u001b[0m\u001b[0msqft_lX_test\u001b[0m\u001b[0;34m)\u001b[0m\u001b[0;34m\u001b[0m\u001b[0;34m\u001b[0m\u001b[0m\n\u001b[1;32m      9\u001b[0m \u001b[0mprint\u001b[0m\u001b[0;34m(\u001b[0m\u001b[0mlr\u001b[0m\u001b[0;34m.\u001b[0m\u001b[0mscore\u001b[0m\u001b[0;34m(\u001b[0m\u001b[0msqft_lX_test\u001b[0m\u001b[0;34m,\u001b[0m\u001b[0my_test\u001b[0m\u001b[0;34m)\u001b[0m\u001b[0;34m)\u001b[0m\u001b[0;34m\u001b[0m\u001b[0;34m\u001b[0m\u001b[0m\n",
            "\u001b[0;32m/usr/local/lib/python3.7/dist-packages/sklearn/linear_model/_base.py\u001b[0m in \u001b[0;36mfit\u001b[0;34m(self, X, y, sample_weight)\u001b[0m\n\u001b[1;32m    490\u001b[0m         \u001b[0mn_jobs_\u001b[0m \u001b[0;34m=\u001b[0m \u001b[0mself\u001b[0m\u001b[0;34m.\u001b[0m\u001b[0mn_jobs\u001b[0m\u001b[0;34m\u001b[0m\u001b[0;34m\u001b[0m\u001b[0m\n\u001b[1;32m    491\u001b[0m         X, y = check_X_y(X, y, accept_sparse=['csr', 'csc', 'coo'],\n\u001b[0;32m--> 492\u001b[0;31m                          y_numeric=True, multi_output=True)\n\u001b[0m\u001b[1;32m    493\u001b[0m \u001b[0;34m\u001b[0m\u001b[0m\n\u001b[1;32m    494\u001b[0m         \u001b[0;32mif\u001b[0m \u001b[0msample_weight\u001b[0m \u001b[0;32mis\u001b[0m \u001b[0;32mnot\u001b[0m \u001b[0;32mNone\u001b[0m\u001b[0;34m:\u001b[0m\u001b[0;34m\u001b[0m\u001b[0;34m\u001b[0m\u001b[0m\n",
            "\u001b[0;32m/usr/local/lib/python3.7/dist-packages/sklearn/utils/validation.py\u001b[0m in \u001b[0;36mcheck_X_y\u001b[0;34m(X, y, accept_sparse, accept_large_sparse, dtype, order, copy, force_all_finite, ensure_2d, allow_nd, multi_output, ensure_min_samples, ensure_min_features, y_numeric, warn_on_dtype, estimator)\u001b[0m\n\u001b[1;32m    763\u001b[0m         \u001b[0my\u001b[0m \u001b[0;34m=\u001b[0m \u001b[0my\u001b[0m\u001b[0;34m.\u001b[0m\u001b[0mastype\u001b[0m\u001b[0;34m(\u001b[0m\u001b[0mnp\u001b[0m\u001b[0;34m.\u001b[0m\u001b[0mfloat64\u001b[0m\u001b[0;34m)\u001b[0m\u001b[0;34m\u001b[0m\u001b[0;34m\u001b[0m\u001b[0m\n\u001b[1;32m    764\u001b[0m \u001b[0;34m\u001b[0m\u001b[0m\n\u001b[0;32m--> 765\u001b[0;31m     \u001b[0mcheck_consistent_length\u001b[0m\u001b[0;34m(\u001b[0m\u001b[0mX\u001b[0m\u001b[0;34m,\u001b[0m \u001b[0my\u001b[0m\u001b[0;34m)\u001b[0m\u001b[0;34m\u001b[0m\u001b[0;34m\u001b[0m\u001b[0m\n\u001b[0m\u001b[1;32m    766\u001b[0m \u001b[0;34m\u001b[0m\u001b[0m\n\u001b[1;32m    767\u001b[0m     \u001b[0;32mreturn\u001b[0m \u001b[0mX\u001b[0m\u001b[0;34m,\u001b[0m \u001b[0my\u001b[0m\u001b[0;34m\u001b[0m\u001b[0;34m\u001b[0m\u001b[0m\n",
            "\u001b[0;32m/usr/local/lib/python3.7/dist-packages/sklearn/utils/validation.py\u001b[0m in \u001b[0;36mcheck_consistent_length\u001b[0;34m(*arrays)\u001b[0m\n\u001b[1;32m    210\u001b[0m     \u001b[0;32mif\u001b[0m \u001b[0mlen\u001b[0m\u001b[0;34m(\u001b[0m\u001b[0muniques\u001b[0m\u001b[0;34m)\u001b[0m \u001b[0;34m>\u001b[0m \u001b[0;36m1\u001b[0m\u001b[0;34m:\u001b[0m\u001b[0;34m\u001b[0m\u001b[0;34m\u001b[0m\u001b[0m\n\u001b[1;32m    211\u001b[0m         raise ValueError(\"Found input variables with inconsistent numbers of\"\n\u001b[0;32m--> 212\u001b[0;31m                          \" samples: %r\" % [int(l) for l in lengths])\n\u001b[0m\u001b[1;32m    213\u001b[0m \u001b[0;34m\u001b[0m\u001b[0m\n\u001b[1;32m    214\u001b[0m \u001b[0;34m\u001b[0m\u001b[0m\n",
            "\u001b[0;31mValueError\u001b[0m: Found input variables with inconsistent numbers of samples: [293692, 17276]"
          ]
        }
      ]
    },
    {
      "cell_type": "code",
      "metadata": {
        "colab": {
          "base_uri": "https://localhost:8080/",
          "height": 450
        },
        "id": "-yDx-Kc6NC67",
        "outputId": "dcd3d439-4b11-494e-e471-817dd3c5fd65"
      },
      "source": [
        "plt.figure(figsize=(8,6))\n",
        "plt.scatter(sqft_lX_test, y_test, 1, marker=',', color = 'black')\n",
        "plt.plot(sqft_lX_test, price_pred, color='blue', linewidth=2)\n",
        "plt.xlabel(\"sqft_living\")\n",
        "plt.ylabel(\"price\")\n",
        "plt.suptitle(\"Linear Regression\")\n",
        "plt.show()\n",
        "print(lr.score(sqft_lX_test,y_test))\n"
      ],
      "execution_count": null,
      "outputs": [
        {
          "output_type": "display_data",
          "data": {
            "image/png": "[encoded data removed]",
            "text/plain": [
              "<Figure size 576x432 with 1 Axes>"
            ]
          },
          "metadata": {
            "tags": [],
            "needs_background": "light"
          }
        },
        {
          "output_type": "stream",
          "text": [
            "0.4673594871862819\n"
          ],
          "name": "stdout"
        }
      ]
    },
    {
      "cell_type": "code",
      "metadata": {
        "id": "pcM9Ot9pOY8H"
      },
      "source": [
        "rdg = Ridge(alpha=3.6)\n",
        "rdg1 = Ridge(alpha=1000)\n",
        "rdg2 = Ridge(alpha=0.001)\n",
        "rdg3 = Ridge(alpha=10000)\n",
        "lX_train, log_y_train\n",
        "rdg.fit(sqft_lX_train, y_train)\n",
        "rdg1.fit(sqft_lX_train, y_train)\n",
        "rdg2.fit(sqft_lX_train, y_train)\n",
        "rdg3.fit(sqft_lX_train, y_train)\n",
        "price_pred_rid = rdg.predict(sqft_lX_test)\n",
        "price_pred_rid1 = rdg1.predict(sqft_lX_test)\n",
        "price_pred_rid2 = rdg2.predict(sqft_lX_test)\n",
        "price_pred_rid3 = rdg3.predict(sqft_lX_test)"
      ],
      "execution_count": null,
      "outputs": []
    },
    {
      "cell_type": "code",
      "metadata": {
        "id": "pK963Qq8FbM0"
      },
      "source": [
        ""
      ],
      "execution_count": null,
      "outputs": []
    },
    {
      "cell_type": "code",
      "metadata": {
        "id": "_836fSF5Fbp2"
      },
      "source": [
        "rdg = Ridge(alpha=3.6)\n",
        "rdg1 = Ridge(alpha=1000)\n",
        "rdg2 = Ridge(alpha=0.001)\n",
        "\n",
        "rdg.fit(lX_train, log_y_train)\n",
        "rdg1.fit(lX_train, log_y_train)\n",
        "rdg2.fit(lX_train, log_y_train)\n",
        "\n",
        "price_pred_rid = rdg.predict(lX_test)\n",
        "price_pred_rid1 = rdg1.predict(lX_test)\n",
        "price_pred_rid2 = rdg2.predict(lX_test)"
      ],
      "execution_count": null,
      "outputs": []
    },
    {
      "cell_type": "code",
      "metadata": {
        "id": "4xoPF6o0kxuZ",
        "colab": {
          "base_uri": "https://localhost:8080/"
        },
        "outputId": "d5b52606-c6c5-4de8-ff46-9a9eaecd86e2"
      },
      "source": [
        "print(1-mean_squared_error(y_test, price_pred_rid, squared=False))\n",
        "\n",
        "print(1-mean_squared_error(y_test, price_pred1, squared=False))"
      ],
      "execution_count": null,
      "outputs": [
        {
          "output_type": "stream",
          "text": [
            "0.7509383328159682\n",
            "0.7509260544015426\n"
          ],
          "name": "stdout"
        }
      ]
    },
    {
      "cell_type": "code",
      "metadata": {
        "colab": {
          "base_uri": "https://localhost:8080/",
          "height": 432
        },
        "id": "UMMT-bPpPKwy",
        "outputId": "516c6e57-46e3-41f9-dadd-dd7a7a491122"
      },
      "source": [
        "plt.figure(figsize=(8,6))\n",
        "plt.scatter(sqft_lX_test, y_test, 1, marker=',', color = 'black')\n",
        "plt.plot(sqft_lX_test, price_pred_rid, color='red', linewidth=2,label = 'lambda = 3.6')\n",
        "plt.plot(sqft_lX_test, price_pred_rid2, color='yellow', linewidth=0.8,label = 'lambda = 0.001')\n",
        "plt.plot(sqft_lX_test, price_pred_rid1, color='green', linewidth=1.5, label = 'lambda = 1000')\n",
        "plt.plot(sqft_lX_test, price_pred_rid3, color='purple', linewidth=1.5, label = 'lambda = 10000')\n",
        "plt.legend()\n",
        "plt.xlabel(\"sqft_living\")\n",
        "plt.ylabel(\"price\")\n",
        "plt.suptitle(\"Ridge Regression\")\n",
        "plt.show()"
      ],
      "execution_count": null,
      "outputs": [
        {
          "output_type": "display_data",
          "data": {
            "image/png": "[encoded data removed]",
            "text/plain": [
              "<Figure size 576x432 with 1 Axes>"
            ]
          },
          "metadata": {
            "tags": [],
            "needs_background": "light"
          }
        }
      ]
    },
    {
      "cell_type": "code",
      "metadata": {
        "id": "dVmgdLAW1VbN"
      },
      "source": [
        ""
      ],
      "execution_count": null,
      "outputs": []
    },
    {
      "cell_type": "code",
      "metadata": {
        "colab": {
          "base_uri": "https://localhost:8080/",
          "height": 432
        },
        "id": "r6r6L3wp1WAw",
        "outputId": "e7eccf3b-b06b-45de-f026-4dba1cb1a762"
      },
      "source": [
        "alphas = [3.6, 0.001, 100, 1000, 10000, 100000]\n",
        "colors = ['red', 'yellow', 'green','blue', 'pink', 'purple']\n",
        "\n",
        "plt.figure(figsize=(8,6))\n",
        "plt.scatter(sqft_lX_test, y_test, 1, marker=',', color = 'black')\n",
        "# plt.plot(sqft_lX_test, price_pred_rid, color='red', linewidth=2,label = 'lambda = 3.6')\n",
        "# plt.plot(sqft_lX_test, price_pred_rid2, color='yellow', linewidth=0.8,label = 'lambda = 0.001')\n",
        "# plt.plot(sqft_lX_test, price_pred_rid1, color='green', linewidth=2, label = 'lambda = 1000000000')\n",
        "# plt.legend()\n",
        "# plt.xlabel(\"sqft_living\")\n",
        "# plt.ylabel(\"price\")\n",
        "# plt.suptitle(\"Ridge Regression\")\n",
        "# plt.show()\n",
        "\n",
        "for i in range(len(alphas)):\n",
        "  rdg = Ridge(alpha=alphas[i])\n",
        "  rdg.fit(sqft_X_std_train, y_train)\n",
        "  price_pred_rid = rdg.predict(sqft_lX_test)\n",
        "  plt.plot(sqft_lX_test, price_pred_rid, color=colors[i], linewidth=0.7,label = 'lambda = ' + str(alphas[i]))\n",
        "\n",
        "plt.legend()\n",
        "plt.xlabel(\"sqft_living\")\n",
        "plt.ylabel(\"price\")\n",
        "plt.suptitle(\"Ridge Regression\")\n",
        "plt.show()"
      ],
      "execution_count": null,
      "outputs": [
        {
          "output_type": "display_data",
          "data": {
            "image/png": "[encoded data removed]",
            "text/plain": [
              "<Figure size 576x432 with 1 Axes>"
            ]
          },
          "metadata": {
            "tags": [],
            "needs_background": "light"
          }
        }
      ]
    },
    {
      "cell_type": "code",
      "metadata": {
        "colab": {
          "base_uri": "https://localhost:8080/",
          "height": 197
        },
        "id": "AM1od5QEPPbn",
        "outputId": "1ee449e2-eff0-452d-8f56-a940b6e88580"
      },
      "source": [
        "from sklearn import preprocessing\n",
        "\n",
        "scaler = preprocessing.StandardScaler().fit(zip_X)\n",
        "scaler\n",
        "zip_X.head*()"
      ],
      "execution_count": null,
      "outputs": [
        {
          "output_type": "error",
          "ename": "TypeError",
          "evalue": "ignored",
          "traceback": [
            "\u001b[0;31m---------------------------------------------------------------------------\u001b[0m",
            "\u001b[0;31mTypeError\u001b[0m                                 Traceback (most recent call last)",
            "\u001b[0;32m<ipython-input-37-f02033932dc8>\u001b[0m in \u001b[0;36m<module>\u001b[0;34m()\u001b[0m\n\u001b[1;32m      3\u001b[0m \u001b[0mscaler\u001b[0m \u001b[0;34m=\u001b[0m \u001b[0mpreprocessing\u001b[0m\u001b[0;34m.\u001b[0m\u001b[0mStandardScaler\u001b[0m\u001b[0;34m(\u001b[0m\u001b[0;34m)\u001b[0m\u001b[0;34m.\u001b[0m\u001b[0mfit\u001b[0m\u001b[0;34m(\u001b[0m\u001b[0mzip_X\u001b[0m\u001b[0;34m)\u001b[0m\u001b[0;34m\u001b[0m\u001b[0;34m\u001b[0m\u001b[0m\n\u001b[1;32m      4\u001b[0m \u001b[0mscaler\u001b[0m\u001b[0;34m\u001b[0m\u001b[0;34m\u001b[0m\u001b[0m\n\u001b[0;32m----> 5\u001b[0;31m \u001b[0mzip_X\u001b[0m\u001b[0;34m.\u001b[0m\u001b[0mhead\u001b[0m\u001b[0;34m*\u001b[0m\u001b[0;34m(\u001b[0m\u001b[0;34m)\u001b[0m\u001b[0;34m\u001b[0m\u001b[0;34m\u001b[0m\u001b[0m\n\u001b[0m",
            "\u001b[0;31mTypeError\u001b[0m: can't multiply sequence by non-int of type 'method'"
          ]
        }
      ]
    },
    {
      "cell_type": "code",
      "metadata": {
        "id": "IbDW7KDPPr7o"
      },
      "source": [
        "zip_X_std = scaler.transform(zip_X)"
      ],
      "execution_count": null,
      "outputs": []
    },
    {
      "cell_type": "code",
      "metadata": {
        "colab": {
          "base_uri": "https://localhost:8080/"
        },
        "id": "aT5-4BmKP78H",
        "outputId": "17aa39e0-158b-48d9-c82b-949a56ed1fa3"
      },
      "source": [
        "zip_X_std.mean(axis=0)"
      ],
      "execution_count": null,
      "outputs": [
        {
          "output_type": "execute_result",
          "data": {
            "text/plain": [
              "array([ 1.11207374e-16,  5.26425439e-17,  1.18445724e-16, -2.10570175e-17,\n",
              "       -5.26425439e-17,  3.15855263e-17,  0.00000000e+00,  1.05285088e-17,\n",
              "        1.42134868e-16, -5.26425439e-18,  2.31627193e-15, -7.36995614e-17,\n",
              "       -1.68660953e-14, -9.36352928e-14,  9.47565789e-17,  5.26425439e-18,\n",
              "       -3.94819079e-18, -1.44766996e-17, -1.97409539e-18,  1.05285088e-17,\n",
              "       -1.05285088e-17, -1.25026042e-17, -4.86943531e-17,  2.36891447e-17,\n",
              "       -5.13264803e-17, -1.84248904e-17,  1.38186678e-17, -5.92228618e-18,\n",
              "       -2.63212719e-18,  3.25725740e-17,  1.31606360e-17, -4.70492736e-17,\n",
              "       -3.61917489e-18,  3.75078125e-17, -7.23834978e-18, -1.64507950e-17,\n",
              "        1.44766996e-17,  4.73782895e-17,  2.30311129e-17,  1.05285088e-17,\n",
              "       -2.89533991e-17,  4.19495271e-17, -1.71088268e-17, -1.97409539e-18,\n",
              "       -3.88238761e-17,  1.28316201e-17, -9.21244518e-18, -3.68497807e-17,\n",
              "       -2.63212719e-18, -2.63212719e-18,  1.97409539e-17, -7.89638158e-18,\n",
              "       -3.61917489e-18,  3.09274945e-17,  2.63212719e-18,  4.47461623e-17,\n",
              "       -7.23834978e-18,  4.73782895e-17,  3.94819079e-18,  3.81658443e-17,\n",
              "        7.89638158e-18, -6.44871162e-17,  9.87047697e-18, -4.90233690e-17,\n",
              "        1.15155565e-17,  3.58627330e-17,  3.86593681e-17, -9.87047697e-18,\n",
              "        4.80363213e-17, -1.84248904e-17,  2.63212719e-18, -8.38990543e-18,\n",
              "       -2.10570175e-17,  1.84248904e-17,  1.31606360e-18, -2.51697163e-17,\n",
              "       -2.10570175e-17, -2.89533991e-17,  2.50052083e-17, -5.00104167e-17,\n",
              "       -4.73782895e-17,  4.07979715e-17,  6.58031798e-18, -1.44766996e-17,\n",
              "       -3.29015899e-18])"
            ]
          },
          "metadata": {
            "tags": []
          },
          "execution_count": 111
        }
      ]
    },
    {
      "cell_type": "code",
      "metadata": {
        "colab": {
          "base_uri": "https://localhost:8080/"
        },
        "id": "Zm1LqMnPQzrx",
        "outputId": "0f1853c0-a9a7-4dad-b687-5ed6dcb5522c"
      },
      "source": [
        "zip_X_std.std(axis=0)"
      ],
      "execution_count": null,
      "outputs": [
        {
          "output_type": "execute_result",
          "data": {
            "text/plain": [
              "array([1., 1., 1., 1., 1., 1., 1., 1., 1., 1., 1., 1., 1., 1., 1., 1., 1.,\n",
              "       1., 1., 1., 1., 1., 1., 1., 1., 1., 1., 1., 1., 1., 1., 1., 1., 1.,\n",
              "       1., 1., 1., 1., 1., 1., 1., 1., 1., 1., 1., 1., 1., 1., 1., 1., 1.,\n",
              "       1., 1., 1., 1., 1., 1., 1., 1., 1., 1., 1., 1., 1., 1., 1., 1., 1.,\n",
              "       1., 1., 1., 1., 1., 1., 1., 1., 1., 1., 1., 1., 1., 1., 1., 1., 1.])"
            ]
          },
          "metadata": {
            "tags": []
          },
          "execution_count": 112
        }
      ]
    },
    {
      "cell_type": "code",
      "metadata": {
        "colab": {
          "base_uri": "https://localhost:8080/"
        },
        "id": "L6k2pcDlQ3gX",
        "outputId": "72049cab-ad07-4029-98a4-27a4555eb339"
      },
      "source": [
        "zip_X_std_train, zip_X_std_test, y_train, y_test = train_test_split(zip_X_std, log_y, test_size=0.2, random_state=0)\n",
        "lr = LinearRegression().fit(zip_X_std_train, y_train)\n",
        "price_pred = lr.predict(zip_X_std_test)\n",
        "print(lr.score(zip_X_std_test,y_test))\n"
      ],
      "execution_count": null,
      "outputs": [
        {
          "output_type": "stream",
          "text": [
            "0.8800552963691533\n"
          ],
          "name": "stdout"
        }
      ]
    },
    {
      "cell_type": "code",
      "metadata": {
        "colab": {
          "base_uri": "https://localhost:8080/"
        },
        "id": "vaj3_zbDRQG7",
        "outputId": "e413a596-6e78-4ac8-819d-e0224515417f"
      },
      "source": [
        "for i in range(1,20):\n",
        "  clf = Ridge(alpha = i*(0.2/20))\n",
        "  clf.fit(zip_X_std_train,log_y_train)\n",
        "  print(i*(0.2/20), \":\", clf.score(zip_X_std_test,log_y_test))"
      ],
      "execution_count": null,
      "outputs": [
        {
          "output_type": "stream",
          "text": [
            "0.01 : 0.8800552581551726\n",
            "0.02 : 0.8800552198697498\n",
            "0.03 : 0.88005518151299\n",
            "0.04 : 0.8800551430849978\n",
            "0.05 : 0.8800551045858781\n",
            "0.06 : 0.8800550660157354\n",
            "0.07 : 0.8800550273746743\n",
            "0.08 : 0.8800549886627991\n",
            "0.09 : 0.8800549498802138\n",
            "0.1 : 0.8800549110270223\n",
            "0.11 : 0.8800548721033291\n",
            "0.12 : 0.8800548331092369\n",
            "0.13 : 0.8800547940448505\n",
            "0.14 : 0.8800547549102723\n",
            "0.15 : 0.8800547157056061\n",
            "0.16 : 0.8800546764309549\n",
            "0.17 : 0.8800546370864222\n",
            "0.18 : 0.88005459767211\n",
            "0.19 : 0.8800545581881216\n"
          ],
          "name": "stdout"
        }
      ]
    },
    {
      "cell_type": "code",
      "metadata": {
        "colab": {
          "base_uri": "https://localhost:8080/"
        },
        "id": "bcrcV4iGRoTT",
        "outputId": "2e4ff335-6ca3-4631-8df0-bf70361a3db7"
      },
      "source": [
        "# standardize data\n",
        "sqft_X_std = sqft_X.subtract(sqft_X.mean(axis=0))\n",
        "sqft_X_std = sqft_X_std.divide(sqft_X.std(axis=0))\n",
        "\n",
        "sqft_X_std_train, sqft_X_std_test, y_train, y_test = train_test_split(sqft_X_std, log_y, test_size=0.2, random_state=0)\n",
        "sqft_X_std_train = sqft_X_std_train.values.reshape(-1,1)\n",
        "sqft_X_std_test = sqft_X_std_test.values.reshape(-1,1)\n",
        "lr = LinearRegression().fit(sqft_X_std_train, y_train)\n",
        "price_pred = lr.predict(sqft_X_std_test)\n",
        "print(lr.score(sqft_X_std_test,y_test))"
      ],
      "execution_count": null,
      "outputs": [
        {
          "output_type": "stream",
          "text": [
            "0.49360612859256386\n"
          ],
          "name": "stdout"
        }
      ]
    },
    {
      "cell_type": "code",
      "metadata": {
        "colab": {
          "base_uri": "https://localhost:8080/",
          "height": 432
        },
        "id": "GfyXkDl9XXjr",
        "outputId": "3f4b11e4-3b57-40f9-f80f-9df5eb18c982"
      },
      "source": [
        "plt.figure(figsize=(8,6))\n",
        "plt.scatter(sqft_X_std_test, y_test, 1, marker=',', color = 'black')\n",
        "plt.plot(sqft_X_std_test, price_pred, color='blue', linewidth=2)\n",
        "plt.xlabel(\"sqft_living\")\n",
        "plt.ylabel(\"price\")\n",
        "plt.suptitle(\"Linear Regression\")\n",
        "plt.show()"
      ],
      "execution_count": null,
      "outputs": [
        {
          "output_type": "display_data",
          "data": {
            "image/png": "[encoded data removed]",
            "text/plain": [
              "<Figure size 576x432 with 1 Axes>"
            ]
          },
          "metadata": {
            "tags": [],
            "needs_background": "light"
          }
        }
      ]
    },
    {
      "cell_type": "code",
      "metadata": {
        "colab": {
          "base_uri": "https://localhost:8080/",
          "height": 432
        },
        "id": "HqcHjCe9XYqW",
        "outputId": "50d76b26-c8f5-4319-d998-dcf93b20bd97"
      },
      "source": [
        "alphas = [3.6, 0.001, 100, 1000, 10000, 100000]\n",
        "colors = ['red', 'yellow', 'green','blue', 'pink', 'purple']\n",
        "\n",
        "plt.figure(figsize=(8,6))\n",
        "plt.scatter(sqft_lX_test, y_test, 1, marker=',', color = 'black')\n",
        "\n",
        "for i in range(len(alphas)):\n",
        "  rdg = Ridge(alpha=alphas[i])\n",
        "  rdg.fit(sqft_X_std_train, y_train)\n",
        "  price_pred_rid = rdg.predict(sqft_X_std_test)\n",
        "  plt.plot(sqft_lX_test, price_pred_rid, color=colors[i], linewidth=0.7,label = 'lambda = ' + str(alphas[i]))\n",
        "\n",
        "plt.legend()\n",
        "plt.xlabel(\"sqft_living\")\n",
        "plt.ylabel(\"price\")\n",
        "plt.suptitle(\"Ridge Regression\")\n",
        "plt.show()"
      ],
      "execution_count": null,
      "outputs": [
        {
          "output_type": "display_data",
          "data": {
            "image/png": "[encoded data removed]",
            "text/plain": [
              "<Figure size 576x432 with 1 Axes>"
            ]
          },
          "metadata": {
            "tags": [],
            "needs_background": "light"
          }
        }
      ]
    },
    {
      "cell_type": "code",
      "metadata": {
        "colab": {
          "base_uri": "https://localhost:8080/"
        },
        "id": "NCEikby0ky-k",
        "outputId": "b1ff64b5-ba5a-4ffa-c44a-9bfb1fb2c5d1"
      },
      "source": [
        "rdg = Ridge(alpha=3.3)\n",
        "\n",
        "\n",
        "rdg.fit(sqft_X_std_train, y_train)\n",
        "\n",
        "price_pred_rid = rdg.predict(sqft_X_std_test)\n",
        "print(rdg.score(sqft_X_std_test,y_test))"
      ],
      "execution_count": null,
      "outputs": [
        {
          "output_type": "stream",
          "text": [
            "0.46735807007528063\n"
          ],
          "name": "stdout"
        }
      ]
    },
    {
      "cell_type": "code",
      "metadata": {
        "colab": {
          "base_uri": "https://localhost:8080/",
          "height": 231
        },
        "id": "m7tsAVkKoGfa",
        "outputId": "c90aa044-47fe-4b8f-b7ca-3c5dfd6689be"
      },
      "source": [
        "alpha=np.logspace(-1,5,50)\n",
        "rmse=[]\n",
        "\n",
        "for alph in alpha:\n",
        "    ridge=Ridge(alpha=alph, copy_X=True, fit_intercept=True)\n",
        "    ridge.fit(sqft_X_std_train, y_train)\n",
        "    predict=ridge.predict(sqft_X_std_test)\n",
        "    print(alph, np.sqrt(mean_squared_error(predict, y_test)))\n",
        "    rmse.append(np.sqrt(mean_squared_error(predict, y_test)))\n",
        "    \n",
        "plt.scatter(alpha, rmse)\n",
        "rmse=pd.Series(rmse, index=alpha)\n",
        "print(rmse.argmin())\n",
        "print(rmse.min())"
      ],
      "execution_count": null,
      "outputs": [
        {
          "output_type": "error",
          "ename": "NameError",
          "evalue": "ignored",
          "traceback": [
            "\u001b[0;31m---------------------------------------------------------------------------\u001b[0m",
            "\u001b[0;31mNameError\u001b[0m                                 Traceback (most recent call last)",
            "\u001b[0;32m<ipython-input-59-5aa26a516eec>\u001b[0m in \u001b[0;36m<module>\u001b[0;34m()\u001b[0m\n\u001b[1;32m      6\u001b[0m     \u001b[0mridge\u001b[0m\u001b[0;34m.\u001b[0m\u001b[0mfit\u001b[0m\u001b[0;34m(\u001b[0m\u001b[0msqft_X_std_train\u001b[0m\u001b[0;34m,\u001b[0m \u001b[0my_train\u001b[0m\u001b[0;34m)\u001b[0m\u001b[0;34m\u001b[0m\u001b[0;34m\u001b[0m\u001b[0m\n\u001b[1;32m      7\u001b[0m     \u001b[0mpredict\u001b[0m\u001b[0;34m=\u001b[0m\u001b[0mridge\u001b[0m\u001b[0;34m.\u001b[0m\u001b[0mpredict\u001b[0m\u001b[0;34m(\u001b[0m\u001b[0msqft_X_std_test\u001b[0m\u001b[0;34m)\u001b[0m\u001b[0;34m\u001b[0m\u001b[0;34m\u001b[0m\u001b[0m\n\u001b[0;32m----> 8\u001b[0;31m     \u001b[0mprint\u001b[0m\u001b[0;34m(\u001b[0m\u001b[0malph\u001b[0m\u001b[0;34m,\u001b[0m \u001b[0mnp\u001b[0m\u001b[0;34m.\u001b[0m\u001b[0msqrt\u001b[0m\u001b[0;34m(\u001b[0m\u001b[0mmean_squared_error\u001b[0m\u001b[0;34m(\u001b[0m\u001b[0mpredict\u001b[0m\u001b[0;34m,\u001b[0m \u001b[0my_test\u001b[0m\u001b[0;34m)\u001b[0m\u001b[0;34m)\u001b[0m\u001b[0;34m)\u001b[0m\u001b[0;34m\u001b[0m\u001b[0;34m\u001b[0m\u001b[0m\n\u001b[0m\u001b[1;32m      9\u001b[0m     \u001b[0mrmse\u001b[0m\u001b[0;34m.\u001b[0m\u001b[0mappend\u001b[0m\u001b[0;34m(\u001b[0m\u001b[0mnp\u001b[0m\u001b[0;34m.\u001b[0m\u001b[0msqrt\u001b[0m\u001b[0;34m(\u001b[0m\u001b[0mmean_squared_error\u001b[0m\u001b[0;34m(\u001b[0m\u001b[0mpredict\u001b[0m\u001b[0;34m,\u001b[0m \u001b[0my_test\u001b[0m\u001b[0;34m)\u001b[0m\u001b[0;34m)\u001b[0m\u001b[0;34m)\u001b[0m\u001b[0;34m\u001b[0m\u001b[0;34m\u001b[0m\u001b[0m\n\u001b[1;32m     10\u001b[0m \u001b[0;34m\u001b[0m\u001b[0m\n",
            "\u001b[0;31mNameError\u001b[0m: name 'mean_squared_error' is not defined"
          ]
        }
      ]
    }
  ]
}